{
  "cells": [
    {
      "cell_type": "code",
      "execution_count": 1,
      "metadata": {
        "id": "NXrD-gULyPlu"
      },
      "outputs": [],
      "source": [
        "import numpy\n",
        "from numpy import *\n",
        "import matplotlib.pyplot as plt"
      ]
    },
    {
      "cell_type": "code",
      "execution_count": 2,
      "metadata": {
        "colab": {
          "base_uri": "https://localhost:8080/"
        },
        "id": "whUTiYhVyX2w",
        "outputId": "81e76f74-cd89-4a8f-a871-aa26491cacb3"
      },
      "outputs": [
        {
          "output_type": "stream",
          "name": "stdout",
          "text": [
            "Mounted at /content/MyDrive\n"
          ]
        }
      ],
      "source": [
        "from google.colab import drive\n",
        "drive.mount(\"/content/MyDrive\")"
      ]
    },
    {
      "cell_type": "code",
      "execution_count": 3,
      "metadata": {
        "id": "rdRG070Yysfk"
      },
      "outputs": [],
      "source": [
        "data_raw=genfromtxt(\"/content/MyDrive/MyDrive/Data/PRNN/Assignment_1/p4_train.csv\",delimiter=\",\")"
      ]
    },
    {
      "cell_type": "code",
      "execution_count": 4,
      "metadata": {
        "colab": {
          "base_uri": "https://localhost:8080/"
        },
        "id": "S2KnZTB1zAyj",
        "outputId": "ef935e89-ca29-4a11-b7c2-87d826078986"
      },
      "outputs": [
        {
          "output_type": "execute_result",
          "data": {
            "text/plain": [
              "(array([0., 1., 2., ..., 7., 8., 9.]), (60000,))"
            ]
          },
          "metadata": {},
          "execution_count": 4
        }
      ],
      "source": [
        "X_raw,Y_raw=data_raw[1:,1:],data_raw[1:,0]\n",
        "X_raw=X_raw/255\n",
        "#X_raw=(X_raw-127.5)/127.5\n",
        "Y_raw,shape(Y_raw)"
      ]
    },
    {
      "cell_type": "code",
      "execution_count": 5,
      "metadata": {
        "colab": {
          "base_uri": "https://localhost:8080/"
        },
        "id": "iUPJylbl0ShG",
        "outputId": "fb32c728-9904-4193-88e1-0ea3c8793599"
      },
      "outputs": [
        {
          "output_type": "execute_result",
          "data": {
            "text/plain": [
              "(60000, 784)"
            ]
          },
          "metadata": {},
          "execution_count": 5
        }
      ],
      "source": [
        "N,d=shape(X_raw)\n",
        "N,d"
      ]
    },
    {
      "cell_type": "code",
      "execution_count": 6,
      "metadata": {
        "colab": {
          "base_uri": "https://localhost:8080/"
        },
        "id": "5_G-nOSQ0fRq",
        "outputId": "11b7335f-1513-44a8-9020-1ee733472410"
      },
      "outputs": [
        {
          "output_type": "execute_result",
          "data": {
            "text/plain": [
              "((6000,), 6000)"
            ]
          },
          "metadata": {},
          "execution_count": 6
        }
      ],
      "source": [
        "random_samples=random.choice(arange(N),6000)\n",
        "Nrs=len(random_samples)\n",
        "shape(random_samples),Nrs"
      ]
    },
    {
      "cell_type": "code",
      "execution_count": 7,
      "metadata": {
        "id": "tFAR7e_90pyO"
      },
      "outputs": [],
      "source": [
        "X_use,Y_use=X_raw[random_samples],Y_raw[random_samples]"
      ]
    },
    {
      "cell_type": "code",
      "execution_count": 11,
      "metadata": {
        "colab": {
          "base_uri": "https://localhost:8080/"
        },
        "id": "wj4mD_2F3NMQ",
        "outputId": "3a1c05d6-0f73-4a19-c177-a2f90202165f"
      },
      "outputs": [
        {
          "output_type": "execute_result",
          "data": {
            "text/plain": [
              "(4200, 1800)"
            ]
          },
          "metadata": {},
          "execution_count": 11
        }
      ],
      "source": [
        "tts_ratio=0.7  #train_test_split_ratio\n",
        "train_split=int((tts_ratio)*Nrs)\n",
        "test_split=int(round((1-tts_ratio)*Nrs))\n",
        "train_split,test_split"
      ]
    },
    {
      "cell_type": "code",
      "execution_count": 12,
      "metadata": {
        "colab": {
          "base_uri": "https://localhost:8080/"
        },
        "id": "BvpxmR5l4Wqg",
        "outputId": "3e3bdb12-3f7d-4c9e-b69b-9b7bebf52887"
      },
      "outputs": [
        {
          "output_type": "execute_result",
          "data": {
            "text/plain": [
              "((4200, 784), (4200,), (1800, 784), (1800,))"
            ]
          },
          "metadata": {},
          "execution_count": 12
        }
      ],
      "source": [
        "X_train,Y_train=X_use[0:train_split,:],Y_use[0:train_split]\n",
        "X_test,Y_test=X_use[train_split:Nrs,:],Y_use[train_split:Nrs]\n",
        "shape(X_train),shape(Y_train),shape(X_test),shape(Y_test)"
      ]
    },
    {
      "cell_type": "code",
      "execution_count": 13,
      "metadata": {
        "colab": {
          "base_uri": "https://localhost:8080/"
        },
        "id": "m0SgaIHp5Qhc",
        "outputId": "964626ef-4b0f-4f8b-a9c4-7eaee8472346"
      },
      "outputs": [
        {
          "output_type": "execute_result",
          "data": {
            "text/plain": [
              "(4200, 784)"
            ]
          },
          "metadata": {},
          "execution_count": 13
        }
      ],
      "source": [
        "Ns,d=X_train.shape\n",
        "Ns,d"
      ]
    },
    {
      "cell_type": "code",
      "execution_count": 14,
      "metadata": {
        "colab": {
          "base_uri": "https://localhost:8080/"
        },
        "id": "oKRskGVI9g_i",
        "outputId": "a65fdfce-7b5a-4d5f-a0e0-ef3ef875ac80"
      },
      "outputs": [
        {
          "output_type": "execute_result",
          "data": {
            "text/plain": [
              "array([0, 1, 2, 3, 4, 5, 6, 7, 8, 9])"
            ]
          },
          "metadata": {},
          "execution_count": 14
        }
      ],
      "source": [
        "K=10\n",
        "labels=arange(K)\n",
        "labels"
      ]
    },
    {
      "cell_type": "code",
      "execution_count": 15,
      "metadata": {
        "id": "FsN7iXT_xspV"
      },
      "outputs": [],
      "source": [
        "Y_onehot=zeros((train_split,len(labels)))\n",
        "\n",
        "for i in range(train_split):\n",
        "  for j in (labels):\n",
        "    if Y_train[i]==j:\n",
        "      Y_onehot[i,j]=1\n",
        "Y_train_onehot=Y_onehot"
      ]
    },
    {
      "cell_type": "code",
      "execution_count": 16,
      "metadata": {
        "colab": {
          "base_uri": "https://localhost:8080/"
        },
        "id": "tjXrQA1s52yk",
        "outputId": "576dc99c-2bb3-4d38-989c-b95f6bce7f19"
      },
      "outputs": [
        {
          "output_type": "execute_result",
          "data": {
            "text/plain": [
              "(10,)"
            ]
          },
          "metadata": {},
          "execution_count": 16
        }
      ],
      "source": [
        "Y_train_onehot[0].shape"
      ]
    },
    {
      "cell_type": "code",
      "execution_count": 17,
      "metadata": {
        "colab": {
          "base_uri": "https://localhost:8080/"
        },
        "id": "obVfIR_hsuo-",
        "outputId": "d918028e-898a-4704-ff61-68ddcbdb9451"
      },
      "outputs": [
        {
          "output_type": "execute_result",
          "data": {
            "text/plain": [
              "array([7., 4., 2., ..., 4., 2., 5.])"
            ]
          },
          "metadata": {},
          "execution_count": 17
        }
      ],
      "source": [
        "Y_test"
      ]
    },
    {
      "cell_type": "code",
      "execution_count": 18,
      "metadata": {
        "id": "hPPgCWigyFBU"
      },
      "outputs": [],
      "source": [
        "training_data=concatenate((X_train,Y_train_onehot),axis=1)\n",
        "test_data=concatenate((X_test,Y_test.reshape(len(Y_test),1)),axis=1)"
      ]
    },
    {
      "cell_type": "code",
      "execution_count": 20,
      "metadata": {
        "id": "zCaxHYAbNMZz"
      },
      "outputs": [],
      "source": [
        "class DenseNeuralNetworks():\n",
        "  def __init__(self,layers):\n",
        "    self.layers=layers\n",
        "    self.L=len(layers)\n",
        "\n",
        "    self.weights=[]\n",
        "    for l in range(self.L):\n",
        "      if l<self.L-1:\n",
        "        self.weights.append(numpy.random.randn(self.layers[l],self.layers[l+1]))\n",
        "    self.biases=[]\n",
        "\n",
        "    for l in range(self.L):\n",
        "      if l<self.L-1:\n",
        "        self.biases.append(numpy.random.randn(self.layers[l+1],1))\n",
        "\n",
        "  def Feedforward(self,x):\n",
        "    output_activations=[]\n",
        "\n",
        "    for l in range(self.L):\n",
        "      if l<self.L-1:\n",
        "        output_activations.append(zeros((self.layers[l+1],1)))\n",
        "    for l in range(self.L):\n",
        "      if l<self.L-1:\n",
        "        if l==0:\n",
        "\n",
        "          output_activations[l]=(sigmoid(dot(self.weights[l].transpose(),x.reshape(d,1))+self.biases[l]))\n",
        "        else:\n",
        "\n",
        "          output_activations[l]=(sigmoid(dot(self.weights[l].transpose(),output_activations[l-1])+self.biases[l]))\n",
        "\n",
        "    return output_activations[self.L-2]\n",
        "\n",
        "  def SGD(self,epochs,mini_batch_size,alpha):\n",
        "\n",
        "    for ee in range(epochs):\n",
        "      bb=0\n",
        "\n",
        "\n",
        "      if (Ns%mini_batch_size==0):\n",
        "\n",
        "        for mini_batch in  range(int((Ns/mini_batch_size))):\n",
        "          self.now_use_them_for_updating_Wb(concatenate((X_train[mini_batch+bb:mini_batch+bb+mini_batch_size],Y_train_onehot[mini_batch+bb:mini_batch+bb+mini_batch_size]),axis=1),mini_batch_size,alpha)\n",
        "          bb=bb+mini_batch_size-1\n",
        "\n",
        "        print(\"{0}/{1} in epoch {2}\".format(self.now_evaluate_test_data(X_test,Y_test),len(X_test),(ee)))\n",
        "  def now_use_them_for_updating_Wb(self,training_data,mini_batch_size,alpha):\n",
        "\n",
        "    dellCw=[]\n",
        "    dellCb=[]\n",
        "    sumdellCw=[]\n",
        "    sumdellCb=[]\n",
        "\n",
        "    for l in range(self.L):\n",
        "      if l<self.L-1:\n",
        "        sumdellCw.append(zeros((self.layers[l],self.layers[l+1])))\n",
        "        sumdellCb.append(zeros((self.layers[l+1],1)))\n",
        "\n",
        "    for l in range(self.L):\n",
        "      if l<self.L-1:\n",
        "        for ll in range(mini_batch_size):\n",
        "          dellCw,dellCb=self.Backpropogation(training_data[ll,0:d],training_data[ll,d:])\n",
        "          sumdellCw[l] = sumdellCw[l]+dellCw[l]\n",
        "          sumdellCb[l] = sumdellCb[l]+dellCb[l]\n",
        "    for l in range(self.L):\n",
        "      if l<self.L-1:\n",
        "        self.weights[l]=self.weights[l]-(alpha/mini_batch_size)*sumdellCw[l]\n",
        "        self.biases[l]=self.biases[l]-(alpha/mini_batch_size)*sumdellCb[l]\n",
        "\n",
        "  def Backpropogation(self,x,y):\n",
        "\n",
        "    Xi,Yi=x.reshape(d,1),y.reshape(len(labels),1)\n",
        "    Z=[]\n",
        "    Activations=[]\n",
        "    temp_activations1,temp_activations2=0,0\n",
        "\n",
        "\n",
        "    for l in range(self.L):\n",
        "      if l<self.L-1:\n",
        "        if l==0:\n",
        "          Z.append(dot(self.weights[l].transpose(),Xi)+self.biases[l])\n",
        "          Activations.append(sigmoid(Z[l]))\n",
        "          temp_activations1=Activations[l]\n",
        "        else:\n",
        "          Z.append(dot(self.weights[l].transpose(),temp_activations1)+self.biases[l])\n",
        "          temp_activations2=sigmoid(Z[l])\n",
        "          Activations.append(temp_activations2)\n",
        "          temp_activations1=temp_activations2\n",
        "\n",
        "    dellL=multiply((Activations[self.L-2]-Yi),sigmoid(Z[self.L-2])*(1-sigmoid(Z[self.L-2])))\n",
        "\n",
        "    dells=[]\n",
        "\n",
        "\n",
        "    for l in range(self.L):\n",
        "      if l<self.L-1:\n",
        "        dells.append(zeros((self.layers[l+1],1)))\n",
        "    for l in range(self.L):\n",
        "      if l<self.L-1:\n",
        "        if l==0:\n",
        "          dells[self.L-2-l]=dellL\n",
        "          temp_dell1=dells[self.L-2-l]\n",
        "        else:\n",
        "          dells[self.L-2-l]=multiply(dot(self.weights[self.L-2-l+1],dells[self.L-2-l+1]),sigmoid(Z[self.L-2-l])*(1-sigmoid(Z[self.L-2-l])))\n",
        "\n",
        "\n",
        "    dellCw=[]\n",
        "\n",
        "    for l in range(self.L):\n",
        "      if l<self.L-1:\n",
        "        dellCw.append(zeros((self.layers[l],self.layers[l+1])))\n",
        "\n",
        "    for l in range(self.L):\n",
        "      if l<self.L-1:\n",
        "        if l==0:\n",
        "          dellCw[l]=dot(Xi,dells[l].transpose())\n",
        "        else:\n",
        "          dellCw[l]=dot(Activations[l-1],dells[l].transpose())\n",
        "    dellCb=[]\n",
        "    for l in range(self.L):\n",
        "      if l<self.L-1:\n",
        "        dellCb.append(zeros((self.layers[l+1],1)))\n",
        "    for l in range(self.L):\n",
        "      if l<self.L-1:\n",
        "        dellCb[l]=dells[l]\n",
        "\n",
        "    return dellCw,dellCb\n",
        "\n",
        "  def now_evaluate_test_data(self,xtest,ytest):\n",
        "\n",
        "    y_pred=[]\n",
        "    for ii in range(len(xtest)):\n",
        "\n",
        "     y_pred.append(int(argmax(self.Feedforward(X_test[ii]))))\n",
        "\n",
        "    c=0\n",
        "\n",
        "    for i in range(len(ytest)):\n",
        "\n",
        "      if y_pred[i]==int(ytest[i]):\n",
        "        c=c+1\n",
        "\n",
        "    return c\n",
        "\n",
        "\n",
        "\n",
        "\n",
        "def sigmoid(Z):\n",
        "  return (1/(1+exp(-Z)))"
      ]
    },
    {
      "cell_type": "code",
      "execution_count": 25,
      "metadata": {
        "colab": {
          "base_uri": "https://localhost:8080/"
        },
        "id": "8r85zp5wTFQv",
        "outputId": "b2001bda-2771-4013-f253-847657aee8bc"
      },
      "outputs": [
        {
          "output_type": "stream",
          "name": "stdout",
          "text": [
            "1385/1800 in epoch 0\n",
            "1532/1800 in epoch 1\n",
            "1585/1800 in epoch 2\n",
            "1605/1800 in epoch 3\n",
            "1615/1800 in epoch 4\n",
            "1632/1800 in epoch 5\n",
            "1644/1800 in epoch 6\n",
            "1650/1800 in epoch 7\n",
            "1656/1800 in epoch 8\n",
            "1659/1800 in epoch 9\n",
            "1661/1800 in epoch 10\n",
            "1664/1800 in epoch 11\n",
            "1665/1800 in epoch 12\n",
            "1667/1800 in epoch 13\n",
            "1669/1800 in epoch 14\n",
            "1670/1800 in epoch 15\n",
            "1672/1800 in epoch 16\n",
            "1671/1800 in epoch 17\n",
            "1672/1800 in epoch 18\n",
            "1673/1800 in epoch 19\n",
            "1671/1800 in epoch 20\n",
            "1672/1800 in epoch 21\n",
            "1672/1800 in epoch 22\n",
            "1671/1800 in epoch 23\n",
            "1672/1800 in epoch 24\n",
            "1672/1800 in epoch 25\n",
            "1672/1800 in epoch 26\n",
            "1673/1800 in epoch 27\n",
            "1669/1800 in epoch 28\n",
            "1669/1800 in epoch 29\n",
            "1669/1800 in epoch 30\n",
            "1669/1800 in epoch 31\n",
            "1670/1800 in epoch 32\n",
            "1668/1800 in epoch 33\n",
            "1667/1800 in epoch 34\n",
            "1668/1800 in epoch 35\n",
            "1669/1800 in epoch 36\n",
            "1668/1800 in epoch 37\n",
            "1669/1800 in epoch 38\n",
            "1670/1800 in epoch 39\n",
            "1671/1800 in epoch 40\n",
            "1672/1800 in epoch 41\n",
            "1674/1800 in epoch 42\n",
            "1675/1800 in epoch 43\n",
            "1675/1800 in epoch 44\n",
            "1675/1800 in epoch 45\n",
            "1677/1800 in epoch 46\n",
            "1677/1800 in epoch 47\n",
            "1678/1800 in epoch 48\n",
            "1679/1800 in epoch 49\n"
          ]
        }
      ],
      "source": [
        "nn=DenseNeuralNetworks([d,16,K])\n",
        "nn.SGD(50,10,3)"
      ]
    }
  ],
  "metadata": {
    "colab": {
      "provenance": []
    },
    "kernelspec": {
      "display_name": "Python 3",
      "name": "python3"
    },
    "language_info": {
      "name": "python"
    }
  },
  "nbformat": 4,
  "nbformat_minor": 0
}