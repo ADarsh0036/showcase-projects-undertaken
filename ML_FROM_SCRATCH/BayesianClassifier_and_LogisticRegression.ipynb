{
  "cells": [
    {
      "cell_type": "markdown",
      "source": [
        "## Here In This Notebook there are the implementation of the Naive Bayesian Classifier and the Logistic Regressor for the Multi Class Classification on the K-MNIST Dataset."
      ],
      "metadata": {
        "id": "fMTSUDZAqw0D"
      }
    },
    {
      "cell_type": "markdown",
      "metadata": {
        "id": "OXJufuc2dDLi"
      },
      "source": [
        "Assignment-1\n",
        "P4\n",
        "a)"
      ]
    },
    {
      "cell_type": "code",
      "execution_count": null,
      "metadata": {
        "id": "dXswgC1HdBlw"
      },
      "outputs": [],
      "source": [
        "import numpy\n",
        "from numpy import *\n",
        "import matplotlib.pyplot as plot"
      ]
    },
    {
      "cell_type": "code",
      "execution_count": null,
      "metadata": {
        "colab": {
          "base_uri": "https://localhost:8080/"
        },
        "id": "OP4Y2IaCeDK-",
        "outputId": "52ce9e9e-aa79-4573-9531-c1d5c52896fc"
      },
      "outputs": [
        {
          "output_type": "stream",
          "name": "stdout",
          "text": [
            "Mounted at /content/drive\n"
          ]
        }
      ],
      "source": [
        "from google.colab import drive\n",
        "drive.mount(\"/content/drive\")"
      ]
    },
    {
      "cell_type": "markdown",
      "source": [
        "## Making the Data to be Ready"
      ],
      "metadata": {
        "id": "3fw-Lj99hJ43"
      }
    },
    {
      "cell_type": "code",
      "execution_count": null,
      "metadata": {
        "id": "z1TdZ8xGd9fY"
      },
      "outputs": [],
      "source": [
        "data_raw=genfromtxt(\"/content/drive/MyDrive/Data/PRNN/Assignment_1/Kannada-MNIST/train.csv\",delimiter=\",\")"
      ]
    },
    {
      "cell_type": "code",
      "execution_count": null,
      "metadata": {
        "colab": {
          "base_uri": "https://localhost:8080/"
        },
        "id": "2gFjVoRufCqf",
        "outputId": "0c845233-843c-402e-961c-a32f0710ea41"
      },
      "outputs": [
        {
          "output_type": "stream",
          "name": "stdout",
          "text": [
            "60000 784\n"
          ]
        }
      ],
      "source": [
        "X_raw,Y_raw=data_raw[1:,1:],data_raw[1:,0]\n",
        "X_raw=X_raw/255\n",
        "Y_raw=Y_raw.astype(int)\n",
        "N,d=shape(X_raw)\n",
        "print(N,d)"
      ]
    },
    {
      "cell_type": "code",
      "execution_count": null,
      "metadata": {
        "id": "NFxh5K04Y_e5"
      },
      "outputs": [],
      "source": [
        "Ns=6000  #samples_of_choice\n",
        "\n",
        "random_index=random.choice(arange(N),Ns)"
      ]
    },
    {
      "cell_type": "code",
      "execution_count": null,
      "metadata": {
        "colab": {
          "base_uri": "https://localhost:8080/"
        },
        "id": "Mydn1A_cICMv",
        "outputId": "6f990227-15fa-4bf6-a0a8-a977a4ad02db"
      },
      "outputs": [
        {
          "output_type": "execute_result",
          "data": {
            "text/plain": [
              "array([0, 1, 2, ..., 7, 8, 9])"
            ]
          },
          "metadata": {},
          "execution_count": 124
        }
      ],
      "source": [
        "Y_raw"
      ]
    },
    {
      "cell_type": "code",
      "execution_count": null,
      "metadata": {
        "colab": {
          "base_uri": "https://localhost:8080/"
        },
        "id": "eociITOQaKxJ",
        "outputId": "e02799d4-e6dd-461f-c5c3-c33d0e05939c"
      },
      "outputs": [
        {
          "output_type": "execute_result",
          "data": {
            "text/plain": [
              "(6000, 784)"
            ]
          },
          "metadata": {},
          "execution_count": 125
        }
      ],
      "source": [
        "X_raw[random_index].shape"
      ]
    },
    {
      "cell_type": "code",
      "execution_count": null,
      "metadata": {
        "id": "QKfSoj_1JbMN"
      },
      "outputs": [],
      "source": [
        "noise = random.rand(Ns,d)\n",
        "X_raw=X_raw[random_index]+0.1*noise\n",
        "Y_raw=Y_raw[random_index]"
      ]
    },
    {
      "cell_type": "code",
      "execution_count": null,
      "metadata": {
        "colab": {
          "base_uri": "https://localhost:8080/"
        },
        "id": "0dV0aBupkqT2",
        "outputId": "0dc98915-c9aa-495f-998e-a78331a97681"
      },
      "outputs": [
        {
          "output_type": "execute_result",
          "data": {
            "text/plain": [
              "(784,)"
            ]
          },
          "metadata": {},
          "execution_count": 127
        }
      ],
      "source": [
        "X1=(X_raw[0,:])#+0.1*noise[0,:]\n",
        "\n",
        "#X1=X_raw[0,:].astype(int)\n",
        "X1/255\n",
        "X1.shape\n",
        "\n",
        "#plot.imshow(resize((X1/255),(28,28)),cmap=\"gray\")"
      ]
    },
    {
      "cell_type": "code",
      "execution_count": null,
      "metadata": {
        "id": "vZy5xYKBpW7V"
      },
      "outputs": [],
      "source": [
        "train_test_split_ratio=0.9\n",
        "train_split=train_test_split_ratio*float(Ns)\n",
        "test_split=round((1-train_test_split_ratio)*float(Ns))"
      ]
    },
    {
      "cell_type": "code",
      "execution_count": null,
      "metadata": {
        "colab": {
          "base_uri": "https://localhost:8080/"
        },
        "id": "B87KRqVSSF7g",
        "outputId": "12b0d7ec-acda-4a9e-babf-d80eb29dab74"
      },
      "outputs": [
        {
          "output_type": "execute_result",
          "data": {
            "text/plain": [
              "600"
            ]
          },
          "metadata": {},
          "execution_count": 131
        }
      ],
      "source": [
        "# train_index=random.choice(arange(N),int(train_split))\n",
        "# train_index.shape\n",
        "# test_index=\n",
        "test_split"
      ]
    },
    {
      "cell_type": "code",
      "execution_count": null,
      "metadata": {
        "id": "gbhZ2QHpVFCZ"
      },
      "outputs": [],
      "source": [
        "train_X,train_Y=X_raw[0:int(train_split)],Y_raw[0:int(train_split)]\n",
        "test_X,test_Y=X_raw[Ns-int(test_split):Ns],Y_raw[Ns-int(test_split):Ns]"
      ]
    },
    {
      "cell_type": "code",
      "execution_count": null,
      "metadata": {
        "id": "C6D0EPqvILFN"
      },
      "outputs": [],
      "source": [
        "test_Y"
      ]
    },
    {
      "cell_type": "code",
      "execution_count": null,
      "metadata": {
        "colab": {
          "base_uri": "https://localhost:8080/"
        },
        "id": "nLivsS4LmSkn",
        "outputId": "2ea23424-b9e7-4ff4-a802-8b01772f9721"
      },
      "outputs": [
        {
          "output_type": "execute_result",
          "data": {
            "text/plain": [
              "5400"
            ]
          },
          "metadata": {},
          "execution_count": 134
        }
      ],
      "source": [
        "K=10\n",
        "labels=array([range(0,K)])\n",
        "C=[]\n",
        "X_tr=[]\n",
        "for j in range(K):\n",
        "\n",
        "  C_j=where(train_Y==j)         #set of indexes where a particular class Y==j\n",
        "  c_j=len(C_j[0])                  #Cardinality of that set\n",
        "  C.append(c_j)\n",
        "  X_tr.append(train_X[C_j,:])\n",
        "C_j\n",
        "numpy.sum(C)"
      ]
    },
    {
      "cell_type": "code",
      "execution_count": null,
      "metadata": {
        "id": "XXUIfBJ-b0m3"
      },
      "outputs": [],
      "source": [
        "X_train=X_tr"
      ]
    },
    {
      "cell_type": "code",
      "execution_count": null,
      "metadata": {
        "colab": {
          "base_uri": "https://localhost:8080/"
        },
        "id": "9l3BZou31tcg",
        "outputId": "c9be434c-2477-4519-e102-b57b02de7882"
      },
      "outputs": [
        {
          "output_type": "execute_result",
          "data": {
            "text/plain": [
              "(1, 784)"
            ]
          },
          "metadata": {},
          "execution_count": 136
        }
      ],
      "source": [
        "X_train[0].shape\n",
        "X_train[0][0]\n",
        "Xk=reshape(X_train[0][0][1],(1,d))\n",
        "Xk.shape\n",
        "# for j in range(10):\n",
        "#   print(j)\n",
        "#   j=j+1\n",
        "# j"
      ]
    },
    {
      "cell_type": "code",
      "execution_count": null,
      "metadata": {
        "colab": {
          "base_uri": "https://localhost:8080/"
        },
        "id": "4c6-dIHdOMME",
        "outputId": "532f6e0d-bdfa-41f2-ed78-89d92e452c8e"
      },
      "outputs": [
        {
          "output_type": "execute_result",
          "data": {
            "text/plain": [
              "(784,)"
            ]
          },
          "metadata": {},
          "execution_count": 137
        }
      ],
      "source": [
        "X_train[0][0][0].shape"
      ]
    },
    {
      "cell_type": "markdown",
      "source": [
        "## Calculating the Sample Means and Sample Covariances for each of the classes"
      ],
      "metadata": {
        "id": "Wd5HnAiVhaVj"
      }
    },
    {
      "cell_type": "code",
      "execution_count": null,
      "metadata": {
        "id": "-Q8m6nMl0ZiL"
      },
      "outputs": [],
      "source": [
        "def SecondOrderStatistics(training_data):\n",
        "\n",
        "  Sample_mean=[]\n",
        "  Sample_covariances=[]\n",
        "  sum1,sum2=0,0\n",
        "\n",
        "  for j in range(K):\n",
        "    for jj in range(C[j]):\n",
        "      X_i=reshape(training_data[j][0][jj],(1,d))\n",
        "      sum1=sum1+(X_i)\n",
        "    Sample_mean.append(sum1/C[j])\n",
        "    sum1=0\n",
        "    for ii in range(C[j]):\n",
        "      X_ii=reshape(training_data[j][0][ii],(1,d))\n",
        "      sum2=sum2+(X_ii-Sample_mean[j]).T * (X_ii-Sample_mean[j])\n",
        "    Sample_covariances.append(sum2/C[j])\n",
        "    sum2=0\n",
        "  return Sample_mean,Sample_covariances"
      ]
    },
    {
      "cell_type": "markdown",
      "source": [
        "#Basically building the Multivariate Gaussians for each classes"
      ],
      "metadata": {
        "id": "sClZpc-6k4RS"
      }
    },
    {
      "cell_type": "code",
      "execution_count": null,
      "metadata": {
        "colab": {
          "base_uri": "https://localhost:8080/"
        },
        "id": "QO39diFGG11e",
        "outputId": "fecb4258-ee50-40cc-e33d-e1d23f6f8bb7"
      },
      "outputs": [
        {
          "output_type": "stream",
          "name": "stdout",
          "text": [
            "(10, 1, 784) (10, 784, 784)\n"
          ]
        }
      ],
      "source": [
        "Sample_mean,Sample_covariances = SecondOrderStatistics(X_train)\n",
        "Sample_mean,Sample_covariances=array(Sample_mean),array(Sample_covariances)\n",
        "print(Sample_mean.shape,Sample_covariances.shape)"
      ]
    },
    {
      "cell_type": "code",
      "execution_count": null,
      "metadata": {
        "colab": {
          "base_uri": "https://localhost:8080/",
          "height": 447
        },
        "id": "str6aGFqHv3C",
        "outputId": "6d124b76-4dd3-4ed8-921b-804c18fb2ab8"
      },
      "outputs": [
        {
          "output_type": "execute_result",
          "data": {
            "text/plain": [
              "<matplotlib.image.AxesImage at 0x7d21ba783340>"
            ]
          },
          "metadata": {},
          "execution_count": 141
        },
        {
          "output_type": "display_data",
          "data": {
            "text/plain": [
              "<Figure size 640x480 with 1 Axes>"
            ],
            "image/png": "[encoded data removed]"
          },
          "metadata": {}
        }
      ],
      "source": [
        "plot.imshow(reshape(Sample_mean[random.choice(10,1)],(28,28)),cmap=\"gray\")"
      ]
    },
    {
      "cell_type": "code",
      "execution_count": null,
      "metadata": {
        "colab": {
          "base_uri": "https://localhost:8080/"
        },
        "id": "UZid4QyCPPu7",
        "outputId": "b5ca3f91-2885-418e-f31b-a6754cace74e"
      },
      "outputs": [
        {
          "output_type": "execute_result",
          "data": {
            "text/plain": [
              "(1, 548, 784)"
            ]
          },
          "metadata": {},
          "execution_count": 142
        }
      ],
      "source": [
        "X_train[0][0][0][0].shape\n",
        "X_train[0].shape"
      ]
    },
    {
      "cell_type": "markdown",
      "source": [
        "Since we are building the Naive Bayes Classifier, we take all our pixels to be independent and that's why our covariance matrix will be diagonal, and , here is the code for the same"
      ],
      "metadata": {
        "id": "dxQJ53kkhjlS"
      }
    },
    {
      "cell_type": "code",
      "execution_count": null,
      "metadata": {
        "id": "r5CRumoiPX-5"
      },
      "outputs": [],
      "source": [
        "def NaiveCovarianceMatrix(training_data,sample_mean):\n",
        "  naive_covariance_mat=[]\n",
        "  #temp=zeros((d,d))\n",
        "  for j in range(K):\n",
        "    X_mi=training_data[j]\n",
        "    sum=0\n",
        "    temp=zeros((d,d))\n",
        "    for m in range(d):\n",
        "      sum=dot((X_mi[0,:,m].reshape(1,C[j])-sample_mean[j,0,m]),(X_mi[0,:,m].reshape(C[j],1)-sample_mean[j,0,m]))\n",
        "      temp[m,m]=sum/C[j]\n",
        "    naive_covariance_mat.append(temp)\n",
        "  return naive_covariance_mat"
      ]
    },
    {
      "cell_type": "code",
      "execution_count": null,
      "metadata": {
        "colab": {
          "base_uri": "https://localhost:8080/"
        },
        "id": "Ov06o6M9lmMR",
        "outputId": "d83b4f08-21d2-486b-c997-f54009f0bd67"
      },
      "outputs": [
        {
          "output_type": "execute_result",
          "data": {
            "text/plain": [
              "(10, 784, 784)"
            ]
          },
          "metadata": {},
          "execution_count": 144
        }
      ],
      "source": [
        "naive_covariance_mat = NaiveCovarianceMatrix(X_train,Sample_mean)\n",
        "naive_covariance_mat=array(naive_covariance_mat)\n",
        "naive_covariance_mat.shape"
      ]
    },
    {
      "cell_type": "code",
      "execution_count": null,
      "metadata": {
        "colab": {
          "base_uri": "https://localhost:8080/"
        },
        "id": "CcHOSmPi4rdF",
        "outputId": "a2130139-12ef-43fa-ce2e-b63ecd0133e5"
      },
      "outputs": [
        {
          "output_type": "execute_result",
          "data": {
            "text/plain": [
              "(10, 784, 784)"
            ]
          },
          "metadata": {},
          "execution_count": 145
        }
      ],
      "source": [
        "naive_covariance_mat.shape"
      ]
    },
    {
      "cell_type": "code",
      "execution_count": null,
      "metadata": {
        "colab": {
          "base_uri": "https://localhost:8080/"
        },
        "id": "UT4NVWEb8tD_",
        "outputId": "d41cf4de-e8f3-4367-966c-068eec44f69a"
      },
      "outputs": [
        {
          "output_type": "execute_result",
          "data": {
            "text/plain": [
              "(1, 784)"
            ]
          },
          "metadata": {},
          "execution_count": 146
        }
      ],
      "source": [
        "diag=[]\n",
        "\n",
        "for j in range(K):\n",
        "  for m in range(d):\n",
        "    diag.append(naive_covariance_mat[j,m,m])\n",
        "diag=array(diag)\n",
        "diag=diag.reshape(10,1,784)\n",
        "diag[0]\n",
        "diag[0].shape\n",
        "\n"
      ]
    },
    {
      "cell_type": "code",
      "execution_count": null,
      "metadata": {
        "colab": {
          "base_uri": "https://localhost:8080/"
        },
        "id": "nF-1b0hLNJ9O",
        "outputId": "40345aed-93c0-4082-f775-da92ccd99d6d"
      },
      "outputs": [
        {
          "output_type": "execute_result",
          "data": {
            "text/plain": [
              "(784,)"
            ]
          },
          "metadata": {},
          "execution_count": 147
        }
      ],
      "source": [
        "test_X[0,:].shape"
      ]
    },
    {
      "cell_type": "markdown",
      "source": [
        "Since, the dimension is large det(naive_covariance_mat) = 0,\n",
        "and hence, we go by taking the log of the likelyhood so that the log(det(naive_covariance_mat)) = numpy.sum(log(diag))"
      ],
      "metadata": {
        "id": "K5En9c8dh_pQ"
      }
    },
    {
      "cell_type": "code",
      "execution_count": null,
      "metadata": {
        "id": "uAPd_gC2JZV-"
      },
      "outputs": [],
      "source": [
        "def loglikelyhoods(testing_data,sample_mean,naive_covariance_matrix):\n",
        "  log_likelyhood_mat=zeros((K,int(testing_data.shape[0])))\n",
        "  constant=-(testing_data.shape[1]/2)*log(2*pi)\n",
        "  diag=[]\n",
        "\n",
        "  for j in range(K):\n",
        "    for m in range(testing_data.shape[1]):\n",
        "      diag.append(naive_covariance_matrix[j,m,m])\n",
        "  diag=array(diag)\n",
        "  diag=diag.reshape(K,1,testing_data.shape[1])\n",
        "  for j in range(K):\n",
        "    for m in range(int(test_split)):\n",
        "      x_m=reshape(testing_data[m,:],(1,testing_data.shape[1]))\n",
        "      log_likelyhood_mat[j,m]=(constant+((-1/2)*numpy.sum(log(diag[j])))-\n",
        "       ((testing_data[m,:].reshape(1,testing_data.shape[1])-Sample_mean[j]) @ linalg.inv(naive_covariance_mat[j]) @ (testing_data[m,:].reshape(testing_data.shape[1],1)-Sample_mean[j].reshape(testing_data.shape[1],1))))\n",
        "  return log_likelyhood_mat"
      ]
    },
    {
      "cell_type": "code",
      "execution_count": null,
      "metadata": {
        "colab": {
          "base_uri": "https://localhost:8080/"
        },
        "id": "yc2eqNKwlrcS",
        "outputId": "2d811760-ac93-48f8-c2a3-676dee499597"
      },
      "outputs": [
        {
          "output_type": "stream",
          "name": "stdout",
          "text": [
            "784\n"
          ]
        }
      ],
      "source": [
        "c=0\n",
        "for i in range(d):\n",
        "  for j in range(d):\n",
        "    if i==j and naive_covariance_mat[3,i,j]!=0:\n",
        "     c=c+1\n",
        "print(c)"
      ]
    },
    {
      "cell_type": "markdown",
      "source": [
        "Testing our Data!!!"
      ],
      "metadata": {
        "id": "o3HaH9s-icmc"
      }
    },
    {
      "cell_type": "code",
      "execution_count": null,
      "metadata": {
        "id": "-YGCcBUN7D3D"
      },
      "outputs": [],
      "source": [
        "log_likelihood_mat = loglikelyhoods(test_X,Sample_mean,naive_covariance_mat)\n",
        "y_pred=[]\n",
        "for j in range(int(test_split)):\n",
        "  m_index=where(log_likelihood_mat[:,j]==max(log_likelihood_mat[:,j]))\n",
        "  y_pred.append(array(m_index))\n",
        "y_pred=array(y_pred)\n"
      ]
    },
    {
      "cell_type": "code",
      "execution_count": null,
      "metadata": {
        "colab": {
          "base_uri": "https://localhost:8080/"
        },
        "id": "Xs-9hkliCrSG",
        "outputId": "1371c9be-682e-4a51-a9b2-a4a92e21e04c"
      },
      "outputs": [
        {
          "output_type": "stream",
          "name": "stdout",
          "text": [
            "(1000, 1, 1) (1200,)\n"
          ]
        }
      ],
      "source": [
        "print(y_pred.shape,shape(test_Y))\n"
      ]
    },
    {
      "cell_type": "code",
      "execution_count": null,
      "metadata": {
        "colab": {
          "base_uri": "https://localhost:8080/"
        },
        "id": "9pDcw_bJ8UJW",
        "outputId": "6e83f43d-fe62-4365-caf6-956be6ffd85a"
      },
      "outputs": [
        {
          "output_type": "stream",
          "name": "stdout",
          "text": [
            "accuracy: 89.0\n"
          ]
        }
      ],
      "source": [
        "c=0\n",
        "for i in range(int(test_split)):\n",
        "  if y_pred[i]-test_Y[i]!=0:\n",
        "    c=c+1\n",
        "accuracy=(1-(c/test_split))*100\n",
        "print(\"accuracy:\",accuracy)"
      ]
    },
    {
      "cell_type": "code",
      "execution_count": null,
      "metadata": {
        "colab": {
          "base_uri": "https://localhost:8080/"
        },
        "id": "0wYEkHGKKok9",
        "outputId": "c22a10a5-7580-4cf0-a0a7-c00637336182"
      },
      "outputs": [
        {
          "output_type": "execute_result",
          "data": {
            "text/plain": [
              "(1, 10)"
            ]
          },
          "metadata": {},
          "execution_count": 55
        }
      ],
      "source": [
        "shape(labels)"
      ]
    },
    {
      "cell_type": "code",
      "execution_count": null,
      "metadata": {
        "colab": {
          "base_uri": "https://localhost:8080/"
        },
        "id": "yoW1G4VnLPun",
        "outputId": "54093978-5882-4927-d95b-37bc794537df"
      },
      "outputs": [
        {
          "output_type": "execute_result",
          "data": {
            "text/plain": [
              "array([[66,  1,  1,  0,  0,  0,  0,  0,  0,  0],\n",
              "       [ 1, 54,  0,  0,  0,  0,  0,  0,  0,  0],\n",
              "       [ 0,  0, 63,  0,  0,  1,  0,  0,  0,  0],\n",
              "       [ 1,  4,  0, 43,  3,  3,  2,  9,  0,  0],\n",
              "       [ 0,  2,  0,  3, 42,  2,  0,  1,  0,  1],\n",
              "       [ 4,  2,  0,  2,  3, 60,  0,  2,  0,  1],\n",
              "       [ 0,  0,  0,  0,  0,  0, 50,  7,  0,  0],\n",
              "       [ 0,  0,  0,  2,  0,  0,  5, 42,  0,  0],\n",
              "       [ 0,  0,  0,  0,  0,  0,  0,  0, 51,  1],\n",
              "       [ 0,  0,  0,  0,  1,  0,  1,  0,  0, 63]])"
            ]
          },
          "metadata": {},
          "execution_count": 151
        }
      ],
      "source": [
        "from sklearn.metrics import confusion_matrix\n",
        "\n",
        "confusion_mattrix=confusion_matrix(y_pred[:,:,0],test_Y)\n",
        "confusion_mattrix"
      ]
    },
    {
      "cell_type": "markdown",
      "source": [
        "#Sampling from the Estimated Distributions:\n",
        "To demonstrate its Generative Nature.\n",
        "\n",
        "Since, we have assumed the distributions and have got the Parameters by ML estimate , now our this model can gererate the samples.!!!"
      ],
      "metadata": {
        "id": "ScNfGLeHVgYA"
      }
    },
    {
      "cell_type": "code",
      "source": [
        "#Sample from the Estimated Gaussian\n",
        "x = random.multivariate_normal(mean = Sample_mean[1][0], cov = Sample_covariances[1])"
      ],
      "metadata": {
        "id": "t1PBgJF0cAjf"
      },
      "execution_count": null,
      "outputs": []
    },
    {
      "cell_type": "code",
      "source": [
        "plot.imshow(x.reshape(28,28),cmap = \"gray\")\n",
        "plot.show()"
      ],
      "metadata": {
        "colab": {
          "base_uri": "https://localhost:8080/",
          "height": 430
        },
        "id": "J6_kLdRucm-R",
        "outputId": "4b31dec8-498f-46f7-93b3-881256f98d05"
      },
      "execution_count": null,
      "outputs": [
        {
          "output_type": "display_data",
          "data": {
            "text/plain": [
              "<Figure size 640x480 with 1 Axes>"
            ],
            "image/png": "[encoded data removed]"
          },
          "metadata": {}
        }
      ]
    },
    {
      "cell_type": "markdown",
      "source": [
        "b) Logistic Regression With Gradient Descent"
      ],
      "metadata": {
        "id": "fhKXHIiqHdYj"
      }
    },
    {
      "cell_type": "code",
      "source": [
        "X_raw,Y_raw=data_raw[1:,1:],data_raw[1:,0]\n",
        "X_raw,Y_raw=X_raw/255, Y_raw.astype(int)\n",
        "N,d=shape(X_raw)"
      ],
      "metadata": {
        "id": "XwF9kkVwHfW7"
      },
      "execution_count": null,
      "outputs": []
    },
    {
      "cell_type": "code",
      "source": [
        "labels=unique(Y_raw)\n",
        "labels.shape"
      ],
      "metadata": {
        "colab": {
          "base_uri": "https://localhost:8080/"
        },
        "id": "5Msyqzt9VVJJ",
        "outputId": "c57ce9b0-b215-4e21-b214-ec0ad9587993"
      },
      "execution_count": null,
      "outputs": [
        {
          "output_type": "execute_result",
          "data": {
            "text/plain": [
              "(10,)"
            ]
          },
          "metadata": {},
          "execution_count": 70
        }
      ]
    },
    {
      "cell_type": "code",
      "source": [
        "Ns=10000\n",
        "random_samples=random.choice(arange(N),Ns)"
      ],
      "metadata": {
        "id": "wrpHox5_VdOQ"
      },
      "execution_count": null,
      "outputs": []
    },
    {
      "cell_type": "code",
      "source": [
        "X_raw1,Y_raw1=X_raw[random_samples],Y_raw[random_samples]"
      ],
      "metadata": {
        "id": "1GIBUc9yWvv3"
      },
      "execution_count": null,
      "outputs": []
    },
    {
      "cell_type": "code",
      "source": [
        "Y_raw1.shape"
      ],
      "metadata": {
        "colab": {
          "base_uri": "https://localhost:8080/"
        },
        "id": "YCIvG1GOfSjb",
        "outputId": "90244913-e0cf-4f8e-936c-644688a57b24"
      },
      "execution_count": null,
      "outputs": [
        {
          "output_type": "execute_result",
          "data": {
            "text/plain": [
              "(10000,)"
            ]
          },
          "metadata": {},
          "execution_count": 73
        }
      ]
    },
    {
      "cell_type": "code",
      "source": [
        "train_test_split_ratio=0.9\n",
        "\n",
        "train_split=int(train_test_split_ratio*Ns)\n",
        "test_split=int(Ns-train_split)"
      ],
      "metadata": {
        "id": "GSMqLQXDc7pM"
      },
      "execution_count": null,
      "outputs": []
    },
    {
      "cell_type": "code",
      "source": [
        "train_split"
      ],
      "metadata": {
        "colab": {
          "base_uri": "https://localhost:8080/"
        },
        "id": "V5LOgieCdLlY",
        "outputId": "f75b1f25-6cde-45fd-a22f-ac5870f7ba46"
      },
      "execution_count": null,
      "outputs": [
        {
          "output_type": "execute_result",
          "data": {
            "text/plain": [
              "9000"
            ]
          },
          "metadata": {},
          "execution_count": 75
        }
      ]
    },
    {
      "cell_type": "code",
      "source": [
        "print(X_raw1.shape)\n",
        "bias_vector=ones((Ns,1))\n",
        "X_raw2=concatenate((X_raw1,bias_vector),axis=1)\n",
        "\n",
        "\n",
        "X_raw2.shape\n",
        "X_train,X_test=X_raw2[0:train_split],X_raw2[Ns-test_split:Ns]\n",
        "\n",
        "X_train.shape,X_test.shape"
      ],
      "metadata": {
        "colab": {
          "base_uri": "https://localhost:8080/"
        },
        "id": "_EmCeYnRW6pv",
        "outputId": "0ed94b4c-1ba4-4f1d-b75d-f25fd72b09eb"
      },
      "execution_count": null,
      "outputs": [
        {
          "output_type": "stream",
          "name": "stdout",
          "text": [
            "(10000, 784)\n"
          ]
        },
        {
          "output_type": "execute_result",
          "data": {
            "text/plain": [
              "((9000, 785), (1000, 785))"
            ]
          },
          "metadata": {},
          "execution_count": 76
        }
      ]
    },
    {
      "cell_type": "code",
      "source": [
        "plot.imshow(X_train[0,0:d].reshape(28,28),cmap=\"gray\")#.shape"
      ],
      "metadata": {
        "colab": {
          "base_uri": "https://localhost:8080/",
          "height": 447
        },
        "id": "mzZSSpHDjyrj",
        "outputId": "4d929cc0-e640-435f-94e9-a5af519e12cb"
      },
      "execution_count": null,
      "outputs": [
        {
          "output_type": "execute_result",
          "data": {
            "text/plain": [
              "<matplotlib.image.AxesImage at 0x7d21c24db130>"
            ]
          },
          "metadata": {},
          "execution_count": 77
        },
        {
          "output_type": "display_data",
          "data": {
            "text/plain": [
              "<Figure size 640x480 with 1 Axes>"
            ],
            "image/png": "[encoded data removed]"
          },
          "metadata": {}
        }
      ]
    },
    {
      "cell_type": "code",
      "source": [
        "Y_raw_onehot=zeros((Ns,len(labels)),int)\n",
        "\n",
        "for j in (labels):\n",
        "  for i in range(Ns):\n",
        "    if Y_raw1[i]==j:\n",
        "      Y_raw_onehot[i,j]=1\n",
        "\n"
      ],
      "metadata": {
        "id": "sFLMAooYZDbu"
      },
      "execution_count": null,
      "outputs": []
    },
    {
      "cell_type": "code",
      "source": [
        "Y_raw_onehot[1]"
      ],
      "metadata": {
        "colab": {
          "base_uri": "https://localhost:8080/"
        },
        "id": "jDYrH03PiSIJ",
        "outputId": "5bd66e3d-471d-4d3d-ce1a-6ce778cbf188"
      },
      "execution_count": null,
      "outputs": [
        {
          "output_type": "execute_result",
          "data": {
            "text/plain": [
              "array([0, 0, 0, 1, 0, 0, 0, 0, 0, 0])"
            ]
          },
          "metadata": {},
          "execution_count": 79
        }
      ]
    },
    {
      "cell_type": "code",
      "source": [
        "Y_train,Y_test=Y_raw_onehot[0:train_split],Y_raw_onehot[train_split:Ns]"
      ],
      "metadata": {
        "id": "OjfL4ut3Xyzt"
      },
      "execution_count": null,
      "outputs": []
    },
    {
      "cell_type": "code",
      "source": [
        "W=ones((len(labels),d+1))\n"
      ],
      "metadata": {
        "id": "LIvzZK7misDb"
      },
      "execution_count": null,
      "outputs": []
    },
    {
      "cell_type": "code",
      "source": [
        "Z=zeros((len(labels),train_split))\n",
        "\n",
        "for j in (labels):\n",
        "  for i in range(train_split):\n",
        "    Z[j,i]=dot(W[j,:].reshape(1,d+1),X_train[i,:].reshape(d+1,1))\n"
      ],
      "metadata": {
        "id": "Qlz_EXK1i6jY"
      },
      "execution_count": null,
      "outputs": []
    },
    {
      "cell_type": "code",
      "source": [
        "dot(W[3,:].reshape(1,d+1),X_train[0,:].reshape(d+1,1))"
      ],
      "metadata": {
        "colab": {
          "base_uri": "https://localhost:8080/"
        },
        "id": "hBsgy304ZY_Z",
        "outputId": "198efee6-7b18-4fa8-8714-c0acbe2a805f"
      },
      "execution_count": null,
      "outputs": [
        {
          "output_type": "execute_result",
          "data": {
            "text/plain": [
              "array([[56.]])"
            ]
          },
          "metadata": {},
          "execution_count": 83
        }
      ]
    },
    {
      "cell_type": "code",
      "source": [
        "numpy.sum(exp(Z[:,0]))"
      ],
      "metadata": {
        "colab": {
          "base_uri": "https://localhost:8080/"
        },
        "id": "KBnxMBSOZGxS",
        "outputId": "1df0d323-5874-4979-a349-89372951e8e3"
      },
      "execution_count": null,
      "outputs": [
        {
          "output_type": "execute_result",
          "data": {
            "text/plain": [
              "2.091659496012996e+25"
            ]
          },
          "metadata": {},
          "execution_count": 84
        }
      ]
    },
    {
      "cell_type": "code",
      "source": [
        "H=zeros((len(labels),train_split))\n",
        "\n",
        "for i in range(train_split):\n",
        "  for j in (labels):\n",
        "    H[j,i]=exp(Z[j,i])/numpy.sum(exp(Z[:,i]))\n"
      ],
      "metadata": {
        "id": "H-1vMZzQjs-h"
      },
      "execution_count": null,
      "outputs": []
    },
    {
      "cell_type": "code",
      "source": [
        "H"
      ],
      "metadata": {
        "colab": {
          "base_uri": "https://localhost:8080/"
        },
        "id": "L5ekgIssY8b8",
        "outputId": "dd38b7e1-0010-44d1-b2b5-5094e0530070"
      },
      "execution_count": null,
      "outputs": [
        {
          "output_type": "execute_result",
          "data": {
            "text/plain": [
              "array([[0.1, 0.1, 0.1, ..., 0.1, 0.1, 0.1],\n",
              "       [0.1, 0.1, 0.1, ..., 0.1, 0.1, 0.1],\n",
              "       [0.1, 0.1, 0.1, ..., 0.1, 0.1, 0.1],\n",
              "       ...,\n",
              "       [0.1, 0.1, 0.1, ..., 0.1, 0.1, 0.1],\n",
              "       [0.1, 0.1, 0.1, ..., 0.1, 0.1, 0.1],\n",
              "       [0.1, 0.1, 0.1, ..., 0.1, 0.1, 0.1]])"
            ]
          },
          "metadata": {},
          "execution_count": 86
        }
      ]
    },
    {
      "cell_type": "code",
      "source": [
        "array_0=[0,1]#,9,8]\n",
        "\n",
        "H[:,array_0]"
      ],
      "metadata": {
        "colab": {
          "base_uri": "https://localhost:8080/"
        },
        "id": "jQikoci-g3rn",
        "outputId": "3c4edd0b-7e85-42d5-bc7c-daa80ade6a39"
      },
      "execution_count": null,
      "outputs": [
        {
          "output_type": "execute_result",
          "data": {
            "text/plain": [
              "array([[0.1, 0.1],\n",
              "       [0.1, 0.1],\n",
              "       [0.1, 0.1],\n",
              "       [0.1, 0.1],\n",
              "       [0.1, 0.1],\n",
              "       [0.1, 0.1],\n",
              "       [0.1, 0.1],\n",
              "       [0.1, 0.1],\n",
              "       [0.1, 0.1],\n",
              "       [0.1, 0.1]])"
            ]
          },
          "metadata": {},
          "execution_count": 87
        }
      ]
    },
    {
      "cell_type": "code",
      "source": [
        "numpy.sum(H[:,0])"
      ],
      "metadata": {
        "colab": {
          "base_uri": "https://localhost:8080/"
        },
        "id": "s-UMDdJbXp2T",
        "outputId": "737753f7-45c5-4bc3-8bcc-d9f151a7d9bd"
      },
      "execution_count": null,
      "outputs": [
        {
          "output_type": "execute_result",
          "data": {
            "text/plain": [
              "1.0"
            ]
          },
          "metadata": {},
          "execution_count": 88
        }
      ]
    },
    {
      "cell_type": "code",
      "source": [
        "def empirical_risk(Y,LOGH):\n",
        "  sum=0\n",
        "\n",
        "  for i in range(train_split):\n",
        "\n",
        "    sum=sum-dot(reshape(Y_train[i,:],(1,len(labels))),reshape(log(H[:,i]),(len(labels),1)))\n",
        "\n",
        "  return sum"
      ],
      "metadata": {
        "id": "PVWjVEbpTtHW"
      },
      "execution_count": null,
      "outputs": []
    },
    {
      "cell_type": "code",
      "source": [
        "risk=empirical_risk(Y_train,H)"
      ],
      "metadata": {
        "id": "pnNbYWP3Yk3S"
      },
      "execution_count": null,
      "outputs": []
    },
    {
      "cell_type": "code",
      "source": [
        "risk"
      ],
      "metadata": {
        "colab": {
          "base_uri": "https://localhost:8080/"
        },
        "id": "X5F_2KFoYrwp",
        "outputId": "c4a51d9d-2eb2-4677-9bd1-5a79cf9821b7"
      },
      "execution_count": null,
      "outputs": [
        {
          "output_type": "execute_result",
          "data": {
            "text/plain": [
              "array([[20723.26583695]])"
            ]
          },
          "metadata": {},
          "execution_count": 91
        }
      ]
    },
    {
      "cell_type": "code",
      "source": [
        "def gradient(X_train,Y_train,W_vector,H,m):\n",
        "  train_split=len(X_train[:,0])\n",
        "  sum=0\n",
        "\n",
        "  for i in range(train_split):\n",
        "    h_mat=zeros((len(labels),d+1))\n",
        "    # sum=0\n",
        "\n",
        "    for j in (labels):\n",
        "      if j!=m :\n",
        "        h_mat[j,:]=X_train[i,:]*H[m,i]\n",
        "      elif j==m:\n",
        "        h_mat[j,:]=X_train[i,:]*(H[m,i]-1)\n",
        "    sum = sum +dot(Y_train[i,:].reshape(1,len(labels)),h_mat)\n",
        "\n",
        "  return sum\n",
        "\n",
        "\n",
        "\n",
        "\n",
        "def stochastic_gradient(H,number_of_samples):\n",
        "\n",
        "  iterations=1000\n",
        "  Batch=number_of_samples\n",
        "  # X_Batch=X_train[Batch]\n",
        "  # H_Batch=H\n",
        "  Ones=ones((len(Batch),1))\n",
        "\n",
        "  for i in range(1000):\n",
        "    sum1,sum2=0,0\n",
        "    for b in (Batch):\n",
        "      sum1=sum1+X_train[b]*(1-H[b])\n",
        "    sum2=sum2+sum1\n",
        "\n",
        "  return sum2/1000\n",
        "\n",
        "\n",
        "\n"
      ],
      "metadata": {
        "id": "cX7XfwzFe-MW"
      },
      "execution_count": null,
      "outputs": []
    },
    {
      "cell_type": "code",
      "source": [
        "W=ones((len(labels),d+1))\n",
        "\n",
        "Z=zeros((len(labels),train_split))\n",
        "\n",
        "for j in (labels):\n",
        "  for i in range(train_split):\n",
        "    Z[j,i]=dot(W[j,:].reshape(1,d+1),X_train[i,:].reshape(d+1,1))\n",
        "\n",
        "H=zeros((len(labels),train_split))\n",
        "\n",
        "for i in range(train_split):\n",
        "  for j in (labels):\n",
        "    H[j,i]=exp(Z[j,i])/numpy.sum(exp(Z[:,i]))\n",
        "\n",
        "\n",
        "\n",
        "alpha=0.0001  #Learning Rate:\n",
        "\n",
        "for ii in range(10000):\n",
        "\n",
        "  # if ii==0:\n",
        "  #risk_old=risk\n",
        "\n",
        "  risk_old=empirical_risk(Y_train,H)\n",
        "  # random_samps=random.choice(arange(train_split),100)\n",
        "  for m in (labels):\n",
        "    W[m,:]=W[m,:].reshape(1,d+1)-alpha*gradient(X_train,Y_train,W[j,:].reshape(1,d+1),H,m)\n",
        "  # if ii==0:\n",
        "  #   break\n",
        "\n",
        "\n",
        "\n",
        "  # if ii==0:\n",
        "  #   print(Z)\n",
        "  for jj in ((labels)):\n",
        "    for iii in range(train_split):\n",
        "      Z[jj,iii]=dot(W[jj,:].reshape(1,d+1),X_train[iii,:].reshape(d+1,1))\n",
        "\n",
        "  # if ii==0:\n",
        "  #   print(H)\n",
        "  for jjj in ((labels)):\n",
        "    for iiii in range(train_split):\n",
        "      H[jjj,iiii]=exp(Z[jjj,iiii])/numpy.sum(exp(Z[:,iiii]))\n",
        "  # if ii==0:\n",
        "  #   print(H)\n",
        "\n",
        "  # # if ii==0:\n",
        "  # #  risk_old=risk\n",
        "  # if ii==0:\n",
        "  #   print(risk_old)\n",
        "  risk_new=empirical_risk(Y_train,H)\n",
        "  print(risk_old,risk_new)\n",
        "  # if ii==0:\n",
        "  #   print(risk_new)\n",
        "  if abs(risk_new-risk_old)<=10**-1:# or ii==5:\n",
        "    break\n",
        "print(ii)\n"
      ],
      "metadata": {
        "colab": {
          "base_uri": "https://localhost:8080/",
          "height": 1000
        },
        "id": "kUrz6yuRcdxx",
        "outputId": "d105fd48-07c1-4267-a6d7-96a09233a943"
      },
      "execution_count": null,
      "outputs": [
        {
          "output_type": "stream",
          "name": "stdout",
          "text": [
            "[[20723.26583695]] [[15004.11829466]]\n",
            "[[15004.11829466]] [[11442.73106023]]\n",
            "[[11442.73106023]] [[9288.61906547]]\n",
            "[[9288.61906547]] [[7916.65967663]]\n",
            "[[7916.65967663]] [[6982.98349486]]\n",
            "[[6982.98349486]] [[6309.30687567]]\n",
            "[[6309.30687567]] [[5799.5230566]]\n",
            "[[5799.5230566]] [[5398.930156]]\n",
            "[[5398.930156]] [[5074.58365687]]\n",
            "[[5074.58365687]] [[4805.608897]]\n",
            "[[4805.608897]] [[4578.17925798]]\n",
            "[[4578.17925798]] [[4382.78201585]]\n",
            "[[4382.78201585]] [[4212.65621026]]\n",
            "[[4212.65621026]] [[4062.86043413]]\n",
            "[[4062.86043413]] [[3929.69481743]]\n",
            "[[3929.69481743]] [[3810.33027502]]\n",
            "[[3810.33027502]] [[3702.5634617]]\n",
            "[[3702.5634617]] [[3604.6504349]]\n",
            "[[3604.6504349]] [[3515.19102461]]\n",
            "[[3515.19102461]] [[3433.04671969]]\n",
            "[[3433.04671969]] [[3357.28122564]]\n",
            "[[3357.28122564]] [[3287.11668235]]\n",
            "[[3287.11668235]] [[3221.90090617]]\n",
            "[[3221.90090617]] [[3161.08252838]]\n",
            "[[3161.08252838]] [[3104.19187995]]\n",
            "[[3104.19187995]] [[3050.82611881]]\n",
            "[[3050.82611881]] [[3000.63753154]]\n",
            "[[3000.63753154]] [[2953.32423947]]\n",
            "[[2953.32423947]] [[2908.62274684]]\n",
            "[[2908.62274684]] [[2866.30191477]]\n",
            "[[2866.30191477]] [[2826.15804999]]\n",
            "[[2826.15804999]] [[2788.01087249]]\n",
            "[[2788.01087249]] [[2751.70018257]]\n",
            "[[2751.70018257]] [[2717.08308828]]\n",
            "[[2717.08308828]] [[2684.03168536]]\n",
            "[[2684.03168536]] [[2652.43110522]]\n",
            "[[2652.43110522]] [[2622.17786377]]\n",
            "[[2622.17786377]] [[2593.17845814]]\n",
            "[[2593.17845814]] [[2565.34816833]]\n",
            "[[2565.34816833]] [[2538.61002967]]\n",
            "[[2538.61002967]] [[2512.89394781]]\n",
            "[[2512.89394781]] [[2488.13593378]]\n",
            "[[2488.13593378]] [[2464.27744023]]\n",
            "[[2464.27744023]] [[2441.26478342]]\n",
            "[[2441.26478342]] [[2419.04863832]]\n",
            "[[2419.04863832]] [[2397.58359608]]\n",
            "[[2397.58359608]] [[2376.82777497]]\n",
            "[[2376.82777497]] [[2356.74247743]]\n",
            "[[2356.74247743]] [[2337.29188684]]\n",
            "[[2337.29188684]] [[2318.44279872]]\n",
            "[[2318.44279872]] [[2300.1643819]]\n",
            "[[2300.1643819]] [[2282.4279657]]\n",
            "[[2282.4279657]] [[2265.20684991]]\n",
            "[[2265.20684991]] [[2248.47613482]]\n",
            "[[2248.47613482]] [[2232.2125686]]\n",
            "[[2232.2125686]] [[2216.39441035]]\n",
            "[[2216.39441035]] [[2201.00130659]]\n",
            "[[2201.00130659]] [[2186.01417995]]\n",
            "[[2186.01417995]] [[2171.41512845]]\n",
            "[[2171.41512845]] [[2157.18733439]]\n",
            "[[2157.18733439]] [[2143.31498165]]\n",
            "[[2143.31498165]] [[2129.7831805]]\n",
            "[[2129.7831805]] [[2116.5778993]]\n",
            "[[2116.5778993]] [[2103.6859021]]\n",
            "[[2103.6859021]] [[2091.09469175]]\n",
            "[[2091.09469175]] [[2078.79245793]]\n",
            "[[2078.79245793]] [[2066.76802943]]\n",
            "[[2066.76802943]] [[2055.01083057]]\n",
            "[[2055.01083057]] [[2043.51084106]]\n",
            "[[2043.51084106]] [[2032.25855918]]\n",
            "[[2032.25855918]] [[2021.24496788]]\n",
            "[[2021.24496788]] [[2010.46150348]]\n",
            "[[2010.46150348]] [[1999.90002692]]\n",
            "[[1999.90002692]] [[1989.55279709]]\n",
            "[[1989.55279709]] [[1979.4124462]]\n",
            "[[1979.4124462]] [[1969.47195704]]\n",
            "[[1969.47195704]] [[1959.72464183]]\n",
            "[[1959.72464183]] [[1950.16412266]]\n",
            "[[1950.16412266]] [[1940.78431327]]\n"
          ]
        },
        {
          "output_type": "error",
          "ename": "KeyboardInterrupt",
          "evalue": "ignored",
          "traceback": [
            "\u001b[0;31m---------------------------------------------------------------------------\u001b[0m",
            "\u001b[0;31mKeyboardInterrupt\u001b[0m                         Traceback (most recent call last)",
            "\u001b[0;32m<ipython-input-93-e44a61efc40e>\u001b[0m in \u001b[0;36m<cell line: 19>\u001b[0;34m()\u001b[0m\n\u001b[1;32m     25\u001b[0m   \u001b[0;31m# random_samps=random.choice(arange(train_split),100)\u001b[0m\u001b[0;34m\u001b[0m\u001b[0;34m\u001b[0m\u001b[0m\n\u001b[1;32m     26\u001b[0m   \u001b[0;32mfor\u001b[0m \u001b[0mm\u001b[0m \u001b[0;32min\u001b[0m \u001b[0;34m(\u001b[0m\u001b[0mlabels\u001b[0m\u001b[0;34m)\u001b[0m\u001b[0;34m:\u001b[0m\u001b[0;34m\u001b[0m\u001b[0;34m\u001b[0m\u001b[0m\n\u001b[0;32m---> 27\u001b[0;31m     \u001b[0mW\u001b[0m\u001b[0;34m[\u001b[0m\u001b[0mm\u001b[0m\u001b[0;34m,\u001b[0m\u001b[0;34m:\u001b[0m\u001b[0;34m]\u001b[0m\u001b[0;34m=\u001b[0m\u001b[0mW\u001b[0m\u001b[0;34m[\u001b[0m\u001b[0mm\u001b[0m\u001b[0;34m,\u001b[0m\u001b[0;34m:\u001b[0m\u001b[0;34m]\u001b[0m\u001b[0;34m.\u001b[0m\u001b[0mreshape\u001b[0m\u001b[0;34m(\u001b[0m\u001b[0;36m1\u001b[0m\u001b[0;34m,\u001b[0m\u001b[0md\u001b[0m\u001b[0;34m+\u001b[0m\u001b[0;36m1\u001b[0m\u001b[0;34m)\u001b[0m\u001b[0;34m-\u001b[0m\u001b[0malpha\u001b[0m\u001b[0;34m*\u001b[0m\u001b[0mgradient\u001b[0m\u001b[0;34m(\u001b[0m\u001b[0mX_train\u001b[0m\u001b[0;34m,\u001b[0m\u001b[0mY_train\u001b[0m\u001b[0;34m,\u001b[0m\u001b[0mW\u001b[0m\u001b[0;34m[\u001b[0m\u001b[0mj\u001b[0m\u001b[0;34m,\u001b[0m\u001b[0;34m:\u001b[0m\u001b[0;34m]\u001b[0m\u001b[0;34m.\u001b[0m\u001b[0mreshape\u001b[0m\u001b[0;34m(\u001b[0m\u001b[0;36m1\u001b[0m\u001b[0;34m,\u001b[0m\u001b[0md\u001b[0m\u001b[0;34m+\u001b[0m\u001b[0;36m1\u001b[0m\u001b[0;34m)\u001b[0m\u001b[0;34m,\u001b[0m\u001b[0mH\u001b[0m\u001b[0;34m,\u001b[0m\u001b[0mm\u001b[0m\u001b[0;34m)\u001b[0m\u001b[0;34m\u001b[0m\u001b[0;34m\u001b[0m\u001b[0m\n\u001b[0m\u001b[1;32m     28\u001b[0m   \u001b[0;31m# if ii==0:\u001b[0m\u001b[0;34m\u001b[0m\u001b[0;34m\u001b[0m\u001b[0m\n\u001b[1;32m     29\u001b[0m   \u001b[0;31m#   break\u001b[0m\u001b[0;34m\u001b[0m\u001b[0;34m\u001b[0m\u001b[0m\n",
            "\u001b[0;32m<ipython-input-92-d3715a362e93>\u001b[0m in \u001b[0;36mgradient\u001b[0;34m(X_train, Y_train, W_vector, H, m)\u001b[0m\n\u001b[1;32m      1\u001b[0m \u001b[0;32mdef\u001b[0m \u001b[0mgradient\u001b[0m\u001b[0;34m(\u001b[0m\u001b[0mX_train\u001b[0m\u001b[0;34m,\u001b[0m\u001b[0mY_train\u001b[0m\u001b[0;34m,\u001b[0m\u001b[0mW_vector\u001b[0m\u001b[0;34m,\u001b[0m\u001b[0mH\u001b[0m\u001b[0;34m,\u001b[0m\u001b[0mm\u001b[0m\u001b[0;34m)\u001b[0m\u001b[0;34m:\u001b[0m\u001b[0;34m\u001b[0m\u001b[0;34m\u001b[0m\u001b[0m\n\u001b[1;32m      2\u001b[0m   \u001b[0mtrain_split\u001b[0m\u001b[0;34m=\u001b[0m\u001b[0mlen\u001b[0m\u001b[0;34m(\u001b[0m\u001b[0mX_train\u001b[0m\u001b[0;34m[\u001b[0m\u001b[0;34m:\u001b[0m\u001b[0;34m,\u001b[0m\u001b[0;36m0\u001b[0m\u001b[0;34m]\u001b[0m\u001b[0;34m)\u001b[0m\u001b[0;34m\u001b[0m\u001b[0;34m\u001b[0m\u001b[0m\n\u001b[1;32m      3\u001b[0m   \u001b[0msum\u001b[0m\u001b[0;34m=\u001b[0m\u001b[0;36m0\u001b[0m\u001b[0;34m\u001b[0m\u001b[0;34m\u001b[0m\u001b[0m\n\u001b[1;32m      4\u001b[0m \u001b[0;34m\u001b[0m\u001b[0m\n\u001b[1;32m      5\u001b[0m   \u001b[0;32mfor\u001b[0m \u001b[0mi\u001b[0m \u001b[0;32min\u001b[0m \u001b[0mrange\u001b[0m\u001b[0;34m(\u001b[0m\u001b[0mtrain_split\u001b[0m\u001b[0;34m)\u001b[0m\u001b[0;34m:\u001b[0m\u001b[0;34m\u001b[0m\u001b[0;34m\u001b[0m\u001b[0m\n",
            "\u001b[0;31mKeyboardInterrupt\u001b[0m: "
          ]
        }
      ]
    },
    {
      "cell_type": "code",
      "source": [
        " W[0]\n",
        " risk_new\n",
        " Z\n",
        " H"
      ],
      "metadata": {
        "colab": {
          "base_uri": "https://localhost:8080/"
        },
        "id": "NaiANaXWp5B-",
        "outputId": "4576f08d-66d8-4a45-f0cf-5926f1362656"
      },
      "execution_count": null,
      "outputs": [
        {
          "output_type": "execute_result",
          "data": {
            "text/plain": [
              "array([[4.17386165e-03, 2.77154786e-04, 5.68452416e-02, ...,\n",
              "        1.99406672e-05, 3.97649958e-01, 1.57311536e-03],\n",
              "       [5.98051854e-02, 6.06736444e-05, 9.38636575e-01, ...,\n",
              "        6.76623991e-05, 1.43019306e-02, 9.91812804e-03],\n",
              "       [5.98543103e-02, 4.78497526e-04, 8.29419780e-04, ...,\n",
              "        7.95412652e-05, 2.99849502e-02, 2.15522040e-03],\n",
              "       ...,\n",
              "       [1.14531093e-02, 4.24324200e-02, 2.65239095e-04, ...,\n",
              "        9.82933187e-01, 7.25966456e-02, 3.10607058e-01],\n",
              "       [2.98165747e-03, 9.49332081e-05, 1.65693691e-03, ...,\n",
              "        1.70303415e-06, 3.10180134e-02, 4.94011062e-04],\n",
              "       [1.92086675e-03, 6.11572141e-04, 6.56102166e-05, ...,\n",
              "        6.62194636e-05, 2.57580511e-02, 9.33040717e-04]])"
            ]
          },
          "metadata": {},
          "execution_count": 94
        }
      ]
    },
    {
      "cell_type": "code",
      "source": [
        "y_pred=[]\n",
        "\n",
        "for i in range(train_split):\n",
        "  max_index=where(H[:,i]==max(H[:,i]))\n",
        "  y_pred.append(int(array((max_index))))"
      ],
      "metadata": {
        "id": "8sbvoi2hDvng"
      },
      "execution_count": null,
      "outputs": []
    },
    {
      "cell_type": "code",
      "source": [
        "Z_test=zeros((len(labels),test_split))\n",
        "\n",
        "for i in range(test_split):\n",
        "  for j in (labels):\n",
        "    Z_test[j,i]=dot(W[j,:].reshape(1,d+1),X_test[i,:].reshape(d+1,1))\n"
      ],
      "metadata": {
        "id": "IPUVbJwMEKF0"
      },
      "execution_count": null,
      "outputs": []
    },
    {
      "cell_type": "code",
      "source": [
        "H_test=zeros((len(labels),test_split))\n",
        "\n",
        "for i in range(test_split):\n",
        "  for j in (labels):\n",
        "    H_test[j,i]=exp(Z_test[j,i])/sum(exp(Z_test[:,i]))\n"
      ],
      "metadata": {
        "id": "dKYAJpGHG0gZ"
      },
      "execution_count": null,
      "outputs": []
    },
    {
      "cell_type": "code",
      "source": [
        "y_pred=[]\n",
        "\n",
        "for i in range(test_split):\n",
        "  max_index=where(H_test[:,i]==max(H_test[:,i]))\n",
        "  y_pred.append(max_index)\n",
        "\n",
        "\n",
        "y_pred=array(y_pred)\n",
        "y_pred[2]\n",
        "Y_test=Y_raw1[Ns-test_split:Ns]"
      ],
      "metadata": {
        "id": "VUwTDmksHLFS"
      },
      "execution_count": null,
      "outputs": []
    },
    {
      "cell_type": "code",
      "source": [
        "y_pred[:,0,0]-Y_test\n",
        "Y_test.shape\n",
        "y_pred[:,0,0].shape"
      ],
      "metadata": {
        "colab": {
          "base_uri": "https://localhost:8080/"
        },
        "id": "iV4V6_jCKWF6",
        "outputId": "baea3eb0-a379-44e2-f349-15482f272986"
      },
      "execution_count": null,
      "outputs": [
        {
          "output_type": "execute_result",
          "data": {
            "text/plain": [
              "(1000,)"
            ]
          },
          "metadata": {},
          "execution_count": 99
        }
      ]
    },
    {
      "cell_type": "code",
      "source": [
        "c=0\n",
        "\n",
        "for i in range(test_split):\n",
        "  if y_pred[i,0,0]-Y_test[i]!=0:\n",
        "    c=c+1\n",
        "\n",
        "accuracy=(1-c/Ns)*100\n",
        "accuracy"
      ],
      "metadata": {
        "colab": {
          "base_uri": "https://localhost:8080/"
        },
        "id": "4HfD26PVHirt",
        "outputId": "101f0044-66ed-43ab-aaf0-8a92a53a5e5f"
      },
      "execution_count": null,
      "outputs": [
        {
          "output_type": "execute_result",
          "data": {
            "text/plain": [
              "99.42"
            ]
          },
          "metadata": {},
          "execution_count": 100
        }
      ]
    }
  ],
  "metadata": {
    "colab": {
      "provenance": []
    },
    "kernelspec": {
      "display_name": "Python 3",
      "name": "python3"
    },
    "language_info": {
      "name": "python"
    }
  },
  "nbformat": 4,
  "nbformat_minor": 0
}