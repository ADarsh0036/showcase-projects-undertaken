{
  "cells": [
    {
      "cell_type": "code",
      "execution_count": 1,
      "metadata": {
        "id": "NXrD-gULyPlu"
      },
      "outputs": [],
      "source": [
        "import numpy\n",
        "from numpy import *\n",
        "import matplotlib.pyplot as plt"
      ]
    },
    {
      "cell_type": "code",
      "execution_count": 2,
      "metadata": {
        "colab": {
          "base_uri": "https://localhost:8080/"
        },
        "id": "whUTiYhVyX2w",
        "outputId": "8a818910-a492-4cb6-c973-3b636198b897"
      },
      "outputs": [
        {
          "output_type": "stream",
          "name": "stdout",
          "text": [
            "Mounted at /content/MyDrive\n"
          ]
        }
      ],
      "source": [
        "from google.colab import drive\n",
        "drive.mount(\"/content/MyDrive\")"
      ]
    },
    {
      "cell_type": "code",
      "execution_count": 3,
      "metadata": {
        "id": "rdRG070Yysfk"
      },
      "outputs": [],
      "source": [
        "data_raw=genfromtxt(\"/content/MyDrive/MyDrive/Data/PRNN/Assignment_1/p4_train.csv\",delimiter=\",\")"
      ]
    },
    {
      "cell_type": "code",
      "execution_count": 4,
      "metadata": {
        "colab": {
          "base_uri": "https://localhost:8080/"
        },
        "id": "S2KnZTB1zAyj",
        "outputId": "d22baa1a-80a2-4896-b4ae-a79f7f5bdf0e"
      },
      "outputs": [
        {
          "output_type": "execute_result",
          "data": {
            "text/plain": [
              "(array([0., 1., 2., ..., 7., 8., 9.]), (60000,))"
            ]
          },
          "metadata": {},
          "execution_count": 4
        }
      ],
      "source": [
        "X_raw,Y_raw=data_raw[1:,1:],data_raw[1:,0]\n",
        "X_raw=X_raw/255\n",
        "#X_raw=(X_raw-127.5)/127.5\n",
        "Y_raw,shape(Y_raw)"
      ]
    },
    {
      "cell_type": "code",
      "execution_count": 5,
      "metadata": {
        "colab": {
          "base_uri": "https://localhost:8080/"
        },
        "id": "iUPJylbl0ShG",
        "outputId": "ea4d7c1a-8296-4ded-acd3-ce0035c66df7"
      },
      "outputs": [
        {
          "output_type": "execute_result",
          "data": {
            "text/plain": [
              "(60000, 784)"
            ]
          },
          "metadata": {},
          "execution_count": 5
        }
      ],
      "source": [
        "N,d=shape(X_raw)\n",
        "N,d"
      ]
    },
    {
      "cell_type": "code",
      "execution_count": 6,
      "metadata": {
        "colab": {
          "base_uri": "https://localhost:8080/"
        },
        "id": "5_G-nOSQ0fRq",
        "outputId": "24fb171c-36f9-449d-c909-bcdb749ec892"
      },
      "outputs": [
        {
          "output_type": "execute_result",
          "data": {
            "text/plain": [
              "((6000,), 6000)"
            ]
          },
          "metadata": {},
          "execution_count": 6
        }
      ],
      "source": [
        "random_samples=random.choice(arange(N),6000)\n",
        "Nrs=len(random_samples)\n",
        "shape(random_samples),Nrs"
      ]
    },
    {
      "cell_type": "code",
      "execution_count": 7,
      "metadata": {
        "id": "tFAR7e_90pyO"
      },
      "outputs": [],
      "source": [
        "X_use,Y_use=X_raw[random_samples],Y_raw[random_samples]"
      ]
    },
    {
      "cell_type": "code",
      "execution_count": 8,
      "metadata": {
        "colab": {
          "base_uri": "https://localhost:8080/"
        },
        "id": "wj4mD_2F3NMQ",
        "outputId": "21f42082-ce11-4852-cf41-525f9095d625"
      },
      "outputs": [
        {
          "output_type": "execute_result",
          "data": {
            "text/plain": [
              "(4200, 1800)"
            ]
          },
          "metadata": {},
          "execution_count": 8
        }
      ],
      "source": [
        "tts_ratio=0.7  #train_test_split_ratio\n",
        "train_split=int((tts_ratio)*Nrs)\n",
        "test_split=int(round((1-tts_ratio)*Nrs))\n",
        "train_split,test_split"
      ]
    },
    {
      "cell_type": "code",
      "execution_count": 9,
      "metadata": {
        "colab": {
          "base_uri": "https://localhost:8080/"
        },
        "id": "BvpxmR5l4Wqg",
        "outputId": "35abaa0c-c293-48ca-b7b0-a753201218cf"
      },
      "outputs": [
        {
          "output_type": "execute_result",
          "data": {
            "text/plain": [
              "((4200, 784), (4200,), (1800, 784), (1800,))"
            ]
          },
          "metadata": {},
          "execution_count": 9
        }
      ],
      "source": [
        "X_train,Y_train=X_use[0:train_split,:],Y_use[0:train_split]\n",
        "X_test,Y_test=X_use[train_split:Nrs,:],Y_use[train_split:Nrs]\n",
        "shape(X_train),shape(Y_train),shape(X_test),shape(Y_test)"
      ]
    },
    {
      "cell_type": "code",
      "execution_count": 10,
      "metadata": {
        "colab": {
          "base_uri": "https://localhost:8080/"
        },
        "id": "m0SgaIHp5Qhc",
        "outputId": "13202124-d207-4051-8be8-22da02646a18"
      },
      "outputs": [
        {
          "output_type": "execute_result",
          "data": {
            "text/plain": [
              "(4200, 784)"
            ]
          },
          "metadata": {},
          "execution_count": 10
        }
      ],
      "source": [
        "Ns,d=X_train.shape\n",
        "Ns,d"
      ]
    },
    {
      "cell_type": "code",
      "execution_count": 11,
      "metadata": {
        "colab": {
          "base_uri": "https://localhost:8080/"
        },
        "id": "oKRskGVI9g_i",
        "outputId": "5d0f0d65-4252-4f3b-a8a4-5cb4f917d0fb"
      },
      "outputs": [
        {
          "output_type": "execute_result",
          "data": {
            "text/plain": [
              "array([0, 1, 2, 3, 4, 5, 6, 7, 8, 9])"
            ]
          },
          "metadata": {},
          "execution_count": 11
        }
      ],
      "source": [
        "K=10\n",
        "labels=arange(K)\n",
        "labels"
      ]
    },
    {
      "cell_type": "code",
      "execution_count": 12,
      "metadata": {
        "id": "FsN7iXT_xspV"
      },
      "outputs": [],
      "source": [
        "Y_onehot=zeros((train_split,len(labels)))\n",
        "\n",
        "for i in range(train_split):\n",
        "  for j in (labels):\n",
        "    if Y_train[i]==j:\n",
        "      Y_onehot[i,j]=1\n",
        "Y_train_onehot=Y_onehot"
      ]
    },
    {
      "cell_type": "code",
      "execution_count": 13,
      "metadata": {
        "colab": {
          "base_uri": "https://localhost:8080/"
        },
        "id": "tjXrQA1s52yk",
        "outputId": "ba4c8395-a469-4582-8146-72fb8e8f1b29"
      },
      "outputs": [
        {
          "output_type": "execute_result",
          "data": {
            "text/plain": [
              "(10,)"
            ]
          },
          "metadata": {},
          "execution_count": 13
        }
      ],
      "source": [
        "Y_train_onehot[0].shape"
      ]
    },
    {
      "cell_type": "code",
      "execution_count": 14,
      "metadata": {
        "colab": {
          "base_uri": "https://localhost:8080/"
        },
        "id": "obVfIR_hsuo-",
        "outputId": "d432aa30-321d-4d8a-ffb4-489695b121a6"
      },
      "outputs": [
        {
          "output_type": "execute_result",
          "data": {
            "text/plain": [
              "array([4., 2., 5., ..., 7., 8., 9.])"
            ]
          },
          "metadata": {},
          "execution_count": 14
        }
      ],
      "source": [
        "Y_test"
      ]
    },
    {
      "cell_type": "code",
      "execution_count": 15,
      "metadata": {
        "id": "hPPgCWigyFBU"
      },
      "outputs": [],
      "source": [
        "training_data=concatenate((X_train,Y_train_onehot),axis=1)\n",
        "test_data=concatenate((X_test,Y_test.reshape(len(Y_test),1)),axis=1)"
      ]
    },
    {
      "cell_type": "code",
      "execution_count": 49,
      "metadata": {
        "id": "zCaxHYAbNMZz"
      },
      "outputs": [],
      "source": [
        "class DenseNeuralNetworks():\n",
        "  def __init__(self,layers):\n",
        "    self.layers=layers\n",
        "    self.L=len(layers)\n",
        "\n",
        "    self.weights=[]\n",
        "    for l in range(self.L):\n",
        "      if l<self.L-1:\n",
        "        self.weights.append(numpy.random.randn(self.layers[l],self.layers[l+1]))\n",
        "    self.biases=[]\n",
        "\n",
        "    for l in range(self.L):\n",
        "      if l<self.L-1:\n",
        "        self.biases.append(numpy.random.randn(self.layers[l+1],1))\n",
        "\n",
        "  def Feedforward(self,x):\n",
        "    output_activations=[]\n",
        "\n",
        "    for l in range(self.L):\n",
        "      if l<self.L-1:\n",
        "        output_activations.append(zeros((self.layers[l+1],1)))\n",
        "    for l in range(self.L):\n",
        "      if l<self.L-1:\n",
        "        if l==0:\n",
        "\n",
        "          output_activations[l]=(sigmoid(dot(self.weights[l].transpose(),x.reshape(d,1))+self.biases[l]))\n",
        "        else:\n",
        "\n",
        "          output_activations[l]=(sigmoid(dot(self.weights[l].transpose(),output_activations[l-1])+self.biases[l]))\n",
        "\n",
        "    return output_activations[self.L-2]\n",
        "\n",
        "  def SGD(self,epochs,mini_batch_size,alpha):\n",
        "\n",
        "    for ee in range(epochs):\n",
        "      bb=0\n",
        "\n",
        "\n",
        "      if (Ns%mini_batch_size==0):\n",
        "\n",
        "        for mini_batch in  range(int((Ns/mini_batch_size))):\n",
        "          self.now_use_them_for_updating_Wb_SGD(concatenate((X_train[mini_batch+bb:mini_batch+bb+mini_batch_size],Y_train_onehot[mini_batch+bb:mini_batch+bb+mini_batch_size]),axis=1),mini_batch_size,alpha)\n",
        "          bb=bb+mini_batch_size-1\n",
        "\n",
        "        print(\"{0}/{1} in epoch {2}\".format(self.now_evaluate_test_data(X_test,Y_test),len(X_test),(ee)))\n",
        "  def MbSGD(self,epochs,mini_batch_size,alpha,gamma):\n",
        "\n",
        "    for ee in range(epochs):\n",
        "      bb=0\n",
        "\n",
        "      if (Ns%mini_batch_size==0):\n",
        "\n",
        "          for mini_batch in  range(int((Ns/mini_batch_size))):\n",
        "            self.now_use_them_for_updating_Wb_MbSGD(concatenate((X_train[mini_batch+bb:mini_batch+bb+mini_batch_size],Y_train_onehot[mini_batch+bb:mini_batch+bb+mini_batch_size]),axis=1),mini_batch_size,alpha,gamma)\n",
        "            bb=bb+mini_batch_size-1\n",
        "\n",
        "          print(\"{0}/{1} in epoch {2}\".format(self.now_evaluate_test_data(X_test,Y_test),len(X_test),(ee)))\n",
        "\n",
        "  def Adam(self,epochs,mini_batch_size,alpha,beta1,beta2,epsilon):\n",
        "\n",
        "    for ee in range(epochs):\n",
        "      bb=0\n",
        "\n",
        "      if (Ns%mini_batch_size==0):\n",
        "\n",
        "          for mini_batch in  range(int((Ns/mini_batch_size))):\n",
        "            self.now_use_them_for_updating_Wb_Adam(concatenate((X_train[mini_batch+bb:mini_batch+bb+mini_batch_size],Y_train_onehot[mini_batch+bb:mini_batch+bb+mini_batch_size]),axis=1),mini_batch_size,alpha,beta1,beta2,epsilon)\n",
        "            bb=bb+mini_batch_size-1\n",
        "\n",
        "          print(\"{0}/{1} in epoch {2}\".format(self.now_evaluate_test_data(X_test,Y_test),len(X_test),(ee)))\n",
        "\n",
        "  def now_use_them_for_updating_Wb_SGD(self,training_data,mini_batch_size,alpha):\n",
        "\n",
        "    dellCw=[]\n",
        "    dellCb=[]\n",
        "    sumdellCw=[]\n",
        "    sumdellCb=[]\n",
        "\n",
        "    for l in range(self.L):\n",
        "      if l<self.L-1:\n",
        "        sumdellCw.append(zeros((self.layers[l],self.layers[l+1])))\n",
        "        sumdellCb.append(zeros((self.layers[l+1],1)))\n",
        "\n",
        "    for l in range(self.L):\n",
        "      if l<self.L-1:\n",
        "        for ll in range(mini_batch_size):\n",
        "          dellCw,dellCb=self.Backpropogation(training_data[ll,0:d],training_data[ll,d:])\n",
        "          sumdellCw[l] = sumdellCw[l]+dellCw[l]\n",
        "          sumdellCb[l] = sumdellCb[l]+dellCb[l]\n",
        "    for l in range(self.L):\n",
        "      if l<self.L-1:\n",
        "        self.weights[l]=self.weights[l]-(alpha/mini_batch_size)*sumdellCw[l]\n",
        "        self.biases[l]=self.biases[l]-(alpha/mini_batch_size)*sumdellCb[l]\n",
        "\n",
        "  def now_use_them_for_updating_Wb_MbSGD(self,training_data,mini_batch_size,alpha,gamma):\n",
        "\n",
        "    dellCw=[]\n",
        "    dellCb=[]\n",
        "    sumdellCw=[]\n",
        "    sumdellCb=[]\n",
        "    ew = []\n",
        "    eb = []\n",
        "\n",
        "    for l in range(self.L):\n",
        "      if l<self.L-1:\n",
        "        sumdellCw.append(zeros((self.layers[l],self.layers[l+1])))\n",
        "        sumdellCb.append(zeros((self.layers[l+1],1)))\n",
        "        ew.append(zeros((self.layers[l],self.layers[l+1])))\n",
        "        eb.append(zeros((self.layers[l+1],1)))\n",
        "\n",
        "    for l in range(self.L):\n",
        "      if l<self.L-1:\n",
        "        for ll in range(mini_batch_size):\n",
        "          dellCw,dellCb=self.Backpropogation(training_data[ll,0:d],training_data[ll,d:])\n",
        "          sumdellCw[l] = sumdellCw[l]+dellCw[l]\n",
        "          sumdellCb[l] = sumdellCb[l]+dellCb[l]\n",
        "    for l in range(self.L):\n",
        "      if l<self.L-1:\n",
        "        ew[l] = gamma * ew[l] + (alpha/mini_batch_size) * sumdellCw[l]\n",
        "        eb[l] = gamma * eb[l] + (alpha/mini_batch_size) * sumdellCb[l]\n",
        "    for l in range(self.L):\n",
        "      if l<self.L-1 :\n",
        "        self.weights[l] = self.weights[l] - ew[l]\n",
        "        self.biases[l] = self.biases[l] - eb[l]\n",
        "\n",
        "  def now_use_them_for_updating_Wb_Adam(self,training_data,mini_batch_size,alpha,beta1,beta2,epsilon):\n",
        "\n",
        "    dellCw=[]\n",
        "    dellCb=[]\n",
        "    sumdellCw=[]\n",
        "    sumdellCb=[]\n",
        "    mwt = []\n",
        "    vwt = []\n",
        "    mwcapt = []\n",
        "    vwcapt = []\n",
        "    mbt = []\n",
        "    vbt = []\n",
        "    mbcapt = []\n",
        "    vbcapt = []\n",
        "\n",
        "    for l in range(self.L):\n",
        "      if l<self.L-1:\n",
        "        sumdellCw.append(zeros((self.layers[l],self.layers[l+1])))\n",
        "        sumdellCb.append(zeros((self.layers[l+1],1)))\n",
        "        mwt.append(zeros((self.layers[l],self.layers[l+1])))\n",
        "        vwt.append(zeros((self.layers[l],self.layers[l+1])))\n",
        "        mwcapt.append(zeros((self.layers[l],self.layers[l+1])))\n",
        "        vwcapt.append(zeros((self.layers[l],self.layers[l+1])))\n",
        "        mbt.append(zeros((self.layers[l+1],1)))\n",
        "        vbt.append(zeros((self.layers[l+1],1)))\n",
        "        mbcapt.append(zeros((self.layers[l+1],1)))\n",
        "        vbcapt.append(zeros((self.layers[l+1],1)))\n",
        "\n",
        "    for l in range(self.L):\n",
        "      if l<self.L-1:\n",
        "        for ll in range(mini_batch_size):\n",
        "          dellCw,dellCb=self.Backpropogation(training_data[ll,0:d],training_data[ll,d:])\n",
        "          sumdellCw[l] = sumdellCw[l]+dellCw[l]\n",
        "          sumdellCb[l] = sumdellCb[l]+dellCb[l]\n",
        "    for l in range(self.L):\n",
        "      if l<self.L-1:\n",
        "        mwt[l] = beta1 * mwt[l] + (1-beta1) *  sumdellCw[l]\n",
        "        vwt[l] = beta2 * vwt[l] + (1-beta2) * (sumdellCw[l])**2\n",
        "        mbt[l] = beta1 * mbt[l] + (1-beta1) *  sumdellCb[l]\n",
        "        vbt[l] = beta2 * vbt[l] + (1-beta2) * (sumdellCb[l])**2\n",
        "        mwcapt[l] = mwt[l]/(1-beta1)\n",
        "        vwcapt[l] = vwt[l]/(1-beta2)\n",
        "        mbcapt[l] = mbt[l]/(1-beta1)\n",
        "        vbcapt[l] = vbt[l]/(1-beta2)\n",
        "\n",
        "    for l in range(self.L):\n",
        "      if l<self.L-1 :\n",
        "        self.weights[l] = self.weights[l] - (alpha/(mini_batch_size))*(mwcapt[l]/sqrt(vwcapt[l] + epsilon))\n",
        "        self.biases[l] = self.biases[l] - (alpha/(mini_batch_size))*(mbcapt[l]/sqrt(vbcapt[l] + epsilon))\n",
        "\n",
        "  def Backpropogation(self,x,y):\n",
        "\n",
        "    Xi,Yi=x.reshape(d,1),y.reshape(len(labels),1)\n",
        "    Z=[]\n",
        "    Activations=[]\n",
        "    temp_activations1,temp_activations2=0,0\n",
        "\n",
        "\n",
        "    for l in range(self.L):\n",
        "      if l<self.L-1:\n",
        "        if l==0:\n",
        "          Z.append(dot(self.weights[l].transpose(),Xi)+self.biases[l])\n",
        "          Activations.append(sigmoid(Z[l]))\n",
        "          temp_activations1=Activations[l]\n",
        "        else:\n",
        "          Z.append(dot(self.weights[l].transpose(),temp_activations1)+self.biases[l])\n",
        "          temp_activations2=sigmoid(Z[l])\n",
        "          Activations.append(temp_activations2)\n",
        "          temp_activations1=temp_activations2\n",
        "\n",
        "    dellL=multiply((Activations[self.L-2]-Yi),sigmoid(Z[self.L-2])*(1-sigmoid(Z[self.L-2])))\n",
        "\n",
        "    dells=[]\n",
        "\n",
        "\n",
        "    for l in range(self.L):\n",
        "      if l<self.L-1:\n",
        "        dells.append(zeros((self.layers[l+1],1)))\n",
        "    for l in range(self.L):\n",
        "      if l<self.L-1:\n",
        "        if l==0:\n",
        "          dells[self.L-2-l]=dellL\n",
        "          temp_dell1=dells[self.L-2-l]\n",
        "        else:\n",
        "          dells[self.L-2-l]=multiply(dot(self.weights[self.L-2-l+1],dells[self.L-2-l+1]),sigmoid(Z[self.L-2-l])*(1-sigmoid(Z[self.L-2-l])))\n",
        "\n",
        "\n",
        "    dellCw=[]\n",
        "\n",
        "    for l in range(self.L):\n",
        "      if l<self.L-1:\n",
        "        dellCw.append(zeros((self.layers[l],self.layers[l+1])))\n",
        "\n",
        "    for l in range(self.L):\n",
        "      if l<self.L-1:\n",
        "        if l==0:\n",
        "          dellCw[l]=dot(Xi,dells[l].transpose())\n",
        "        else:\n",
        "          dellCw[l]=dot(Activations[l-1],dells[l].transpose())\n",
        "    dellCb=[]\n",
        "    for l in range(self.L):\n",
        "      if l<self.L-1:\n",
        "        dellCb.append(zeros((self.layers[l+1],1)))\n",
        "    for l in range(self.L):\n",
        "      if l<self.L-1:\n",
        "        dellCb[l]=dells[l]\n",
        "\n",
        "    return dellCw,dellCb\n",
        "\n",
        "  def now_evaluate_test_data(self,xtest,ytest):\n",
        "\n",
        "    y_pred=[]\n",
        "    for ii in range(len(xtest)):\n",
        "\n",
        "     y_pred.append(int(argmax(self.Feedforward(X_test[ii]))))\n",
        "\n",
        "    c=0\n",
        "\n",
        "    for i in range(len(ytest)):\n",
        "\n",
        "      if y_pred[i]==int(ytest[i]):\n",
        "        c=c+1\n",
        "\n",
        "    return c\n",
        "\n",
        "\n",
        "\n",
        "\n",
        "def sigmoid(Z):\n",
        "  return (1/(1+exp(-Z)))"
      ]
    },
    {
      "cell_type": "code",
      "execution_count": 35,
      "metadata": {
        "colab": {
          "base_uri": "https://localhost:8080/"
        },
        "id": "8r85zp5wTFQv",
        "outputId": "dcc6bf39-55a2-47e3-802e-7f7c461868b8"
      },
      "outputs": [
        {
          "output_type": "stream",
          "name": "stdout",
          "text": [
            "1356/1800 in epoch 0\n",
            "1524/1800 in epoch 1\n",
            "1594/1800 in epoch 2\n",
            "1610/1800 in epoch 3\n",
            "1616/1800 in epoch 4\n",
            "1626/1800 in epoch 5\n",
            "1635/1800 in epoch 6\n",
            "1642/1800 in epoch 7\n",
            "1640/1800 in epoch 8\n",
            "1645/1800 in epoch 9\n",
            "1643/1800 in epoch 10\n",
            "1646/1800 in epoch 11\n",
            "1648/1800 in epoch 12\n",
            "1649/1800 in epoch 13\n",
            "1652/1800 in epoch 14\n",
            "1650/1800 in epoch 15\n",
            "1651/1800 in epoch 16\n",
            "1646/1800 in epoch 17\n",
            "1645/1800 in epoch 18\n",
            "1641/1800 in epoch 19\n",
            "1651/1800 in epoch 20\n",
            "1651/1800 in epoch 21\n",
            "1650/1800 in epoch 22\n",
            "1656/1800 in epoch 23\n",
            "1658/1800 in epoch 24\n",
            "1657/1800 in epoch 25\n",
            "1656/1800 in epoch 26\n",
            "1655/1800 in epoch 27\n",
            "1655/1800 in epoch 28\n",
            "1657/1800 in epoch 29\n",
            "1657/1800 in epoch 30\n",
            "1655/1800 in epoch 31\n",
            "1654/1800 in epoch 32\n",
            "1656/1800 in epoch 33\n",
            "1654/1800 in epoch 34\n",
            "1656/1800 in epoch 35\n",
            "1657/1800 in epoch 36\n",
            "1658/1800 in epoch 37\n",
            "1660/1800 in epoch 38\n",
            "1658/1800 in epoch 39\n",
            "1660/1800 in epoch 40\n",
            "1660/1800 in epoch 41\n",
            "1660/1800 in epoch 42\n",
            "1659/1800 in epoch 43\n",
            "1659/1800 in epoch 44\n",
            "1659/1800 in epoch 45\n",
            "1661/1800 in epoch 46\n",
            "1660/1800 in epoch 47\n",
            "1661/1800 in epoch 48\n",
            "1663/1800 in epoch 49\n"
          ]
        }
      ],
      "source": [
        "nn=DenseNeuralNetworks([d,16,K])\n",
        "nn.SGD(50,10,3)"
      ]
    },
    {
      "cell_type": "code",
      "source": [
        "nn = DenseNeuralNetworks([d,16,K])\n",
        "nn.MbSGD(30,10,0.7,0.5)"
      ],
      "metadata": {
        "colab": {
          "base_uri": "https://localhost:8080/"
        },
        "id": "rT-8Mr9chhMb",
        "outputId": "d698adb3-cf89-4e80-f285-1915cbff7fd6"
      },
      "execution_count": 54,
      "outputs": [
        {
          "output_type": "stream",
          "name": "stdout",
          "text": [
            "595/1800 in epoch 0\n",
            "867/1800 in epoch 1\n",
            "1132/1800 in epoch 2\n",
            "1275/1800 in epoch 3\n",
            "1389/1800 in epoch 4\n",
            "1474/1800 in epoch 5\n",
            "1513/1800 in epoch 6\n",
            "1536/1800 in epoch 7\n",
            "1553/1800 in epoch 8\n",
            "1568/1800 in epoch 9\n",
            "1580/1800 in epoch 10\n",
            "1592/1800 in epoch 11\n",
            "1608/1800 in epoch 12\n",
            "1609/1800 in epoch 13\n",
            "1618/1800 in epoch 14\n",
            "1624/1800 in epoch 15\n",
            "1632/1800 in epoch 16\n",
            "1631/1800 in epoch 17\n",
            "1635/1800 in epoch 18\n",
            "1636/1800 in epoch 19\n",
            "1642/1800 in epoch 20\n",
            "1646/1800 in epoch 21\n",
            "1648/1800 in epoch 22\n",
            "1647/1800 in epoch 23\n",
            "1647/1800 in epoch 24\n",
            "1650/1800 in epoch 25\n",
            "1652/1800 in epoch 26\n",
            "1654/1800 in epoch 27\n",
            "1653/1800 in epoch 28\n",
            "1652/1800 in epoch 29\n"
          ]
        }
      ]
    },
    {
      "cell_type": "code",
      "source": [
        "nn = DenseNeuralNetworks([d,16,K])\n",
        "nn.Adam(30,10,0.1,0.9,0.9,10**-5)"
      ],
      "metadata": {
        "colab": {
          "base_uri": "https://localhost:8080/"
        },
        "id": "SP7sIEYqJsqX",
        "outputId": "bda2727c-a412-462e-fbd7-c6a74a4d2e6b"
      },
      "execution_count": 52,
      "outputs": [
        {
          "output_type": "stream",
          "name": "stdout",
          "text": [
            "1407/1800 in epoch 0\n",
            "1571/1800 in epoch 1\n",
            "1612/1800 in epoch 2\n",
            "1623/1800 in epoch 3\n",
            "1639/1800 in epoch 4\n",
            "1648/1800 in epoch 5\n",
            "1655/1800 in epoch 6\n",
            "1659/1800 in epoch 7\n",
            "1660/1800 in epoch 8\n",
            "1667/1800 in epoch 9\n",
            "1671/1800 in epoch 10\n",
            "1671/1800 in epoch 11\n",
            "1673/1800 in epoch 12\n",
            "1672/1800 in epoch 13\n",
            "1674/1800 in epoch 14\n",
            "1671/1800 in epoch 15\n",
            "1673/1800 in epoch 16\n",
            "1673/1800 in epoch 17\n",
            "1670/1800 in epoch 18\n",
            "1670/1800 in epoch 19\n",
            "1673/1800 in epoch 20\n",
            "1674/1800 in epoch 21\n",
            "1680/1800 in epoch 22\n",
            "1679/1800 in epoch 23\n",
            "1676/1800 in epoch 24\n",
            "1678/1800 in epoch 25\n",
            "1678/1800 in epoch 26\n",
            "1677/1800 in epoch 27\n",
            "1674/1800 in epoch 28\n",
            "1674/1800 in epoch 29\n"
          ]
        }
      ]
    }
  ],
  "metadata": {
    "colab": {
      "provenance": []
    },
    "kernelspec": {
      "display_name": "Python 3",
      "name": "python3"
    },
    "language_info": {
      "name": "python"
    }
  },
  "nbformat": 4,
  "nbformat_minor": 0
}