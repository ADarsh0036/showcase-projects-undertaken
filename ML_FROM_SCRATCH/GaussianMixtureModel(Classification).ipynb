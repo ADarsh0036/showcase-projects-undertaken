{
 "cells": [
  {
   "cell_type": "code",
   "execution_count": null,
   "metadata": {
    "id": "bZaD8a_ZWEN9"
   },
   "outputs": [],
   "source": [
    "import numpy\n",
    "from numpy import *\n",
    "import matplotlib.pyplot as plt"
   ]
  },
  {
   "cell_type": "code",
   "execution_count": null,
   "metadata": {
    "colab": {
     "base_uri": "https://localhost:8080/"
    },
    "id": "pm6f66fkXWYE",
    "outputId": "0670a03c-b600-4aab-dd12-e5f6a6184d6f"
   },
   "outputs": [],
   "source": [
    "from google.colab import drive\n",
    "drive.mount(\"/content/MyDrive\")"
   ]
  },
  {
   "cell_type": "code",
   "execution_count": null,
   "metadata": {
    "id": "pzvPw4-iXh05"
   },
   "outputs": [],
   "source": [
    "data_raw = genfromtxt(\"/content/MyDrive/MyDrive/Data/PRNN/Assignment_1/p4_train.csv\",delimiter = \",\")"
   ]
  },
  {
   "cell_type": "code",
   "execution_count": null,
   "metadata": {
    "id": "SSnUHqvkX0_h"
   },
   "outputs": [],
   "source": [
    "X_raw,Y_raw = data_raw[1:,1:],data_raw[1:,0]\n",
    "noise = 0.01*random.randn(X_raw.shape[0],X_raw.shape[1])\n",
    "X_raw = X_raw/255 + noise"
   ]
  },
  {
   "cell_type": "code",
   "execution_count": null,
   "metadata": {
    "colab": {
     "base_uri": "https://localhost:8080/"
    },
    "id": "MoG1pBtpFJcC",
    "outputId": "b0cec659-642a-4add-c2e6-609e900be351"
   },
   "outputs": [],
   "source": [
    "X_raw.shape"
   ]
  },
  {
   "cell_type": "code",
   "execution_count": null,
   "metadata": {
    "colab": {
     "base_uri": "https://localhost:8080/"
    },
    "id": "DGsAmAinFXfK",
    "outputId": "1bddeb23-6a3b-45e2-b461-5de8cf2ff3eb"
   },
   "outputs": [],
   "source": [
    "len(X_raw)"
   ]
  },
  {
   "cell_type": "code",
   "execution_count": null,
   "metadata": {
    "id": "3PhWQjcXE4bW"
   },
   "outputs": [],
   "source": [
    "X_raw1 = []\n",
    "\n",
    "for i in range(len(X_raw)):\n",
    "  X_raw1.append(X_raw[i].reshape(28,28))"
   ]
  },
  {
   "cell_type": "code",
   "execution_count": null,
   "metadata": {
    "colab": {
     "base_uri": "https://localhost:8080/"
    },
    "id": "fLplQfE3Fqss",
    "outputId": "a86cd247-e4fe-48b8-f792-0bf04f59bf94"
   },
   "outputs": [],
   "source": [
    "X_raw1[0].shape"
   ]
  },
  {
   "cell_type": "code",
   "execution_count": null,
   "metadata": {
    "id": "PRbnpQwfFajM"
   },
   "outputs": [],
   "source": [
    "X_raw_resize = []\n",
    "for i in range(len(X_raw)):\n",
    "  X_raw_resize.append(resize(X_raw1[i],(10,10)))"
   ]
  },
  {
   "cell_type": "code",
   "execution_count": null,
   "metadata": {
    "colab": {
     "base_uri": "https://localhost:8080/",
     "height": 430
    },
    "id": "bkSJyztoF-kW",
    "outputId": "220a88b7-64f0-400e-83bd-9ce1914f06bb"
   },
   "outputs": [],
   "source": [
    "plt.imshow(X_raw1[0],cmap = \"gray\")\n",
    "plt.show()"
   ]
  },
  {
   "cell_type": "code",
   "execution_count": null,
   "metadata": {
    "colab": {
     "base_uri": "https://localhost:8080/",
     "height": 430
    },
    "id": "pwR0T3NxGGab",
    "outputId": "b3147655-5c90-448c-c375-4c7d24726a28"
   },
   "outputs": [],
   "source": [
    "plt.imshow(X_raw_resize[0],cmap = \"gray\")\n",
    "plt.show()"
   ]
  },
  {
   "cell_type": "code",
   "execution_count": null,
   "metadata": {
    "id": "tuCU0_QzYmrx"
   },
   "outputs": [],
   "source": [
    "N,d = X_raw.shape\n",
    "Ns = 10000"
   ]
  },
  {
   "cell_type": "code",
   "execution_count": null,
   "metadata": {
    "id": "Pw-HHKlEYsy2"
   },
   "outputs": [],
   "source": [
    "random_samples = random.choice(arange(N),Ns)"
   ]
  },
  {
   "cell_type": "code",
   "execution_count": null,
   "metadata": {
    "id": "nX5Nuj1CY3tt"
   },
   "outputs": [],
   "source": [
    "X_use,Y_use = X_raw[random_samples],Y_raw[random_samples]"
   ]
  },
  {
   "cell_type": "code",
   "execution_count": null,
   "metadata": {
    "colab": {
     "base_uri": "https://localhost:8080/"
    },
    "id": "s-vD2lOAY961",
    "outputId": "63b7f35e-396b-402b-b050-ad81494fa0b7"
   },
   "outputs": [],
   "source": [
    "tts_ratio = 0.6\n",
    "train_split = round(tts_ratio * Ns)\n",
    "test_split = int(Ns-train_split)\n",
    "\n",
    "train_split,test_split"
   ]
  },
  {
   "cell_type": "code",
   "execution_count": null,
   "metadata": {
    "colab": {
     "base_uri": "https://localhost:8080/"
    },
    "id": "vyNnRV8qZYsI",
    "outputId": "c7afbc3b-b546-4ef3-c22c-5468afe0dfb0"
   },
   "outputs": [],
   "source": [
    "X_train,Y_train = X_use[0:train_split],Y_use[0:train_split]\n",
    "X_test,Y_test = X_use[Ns-test_split:Ns],Y_use[Ns-test_split:Ns]\n",
    "X_train.shape,Y_train.shape,X_test.shape,Y_test.shape"
   ]
  },
  {
   "cell_type": "code",
   "execution_count": null,
   "metadata": {
    "id": "qUTkClo7kLG8"
   },
   "outputs": [],
   "source": [
    "X_pca = cov(X_train.transpose())"
   ]
  },
  {
   "cell_type": "code",
   "execution_count": null,
   "metadata": {
    "id": "GO-TurxpUgwI"
   },
   "outputs": [],
   "source": [
    "eigen_values,eigen_vectors = linalg.eig(X_pca)"
   ]
  },
  {
   "cell_type": "code",
   "execution_count": null,
   "metadata": {
    "id": "ZxOjWv8ud6Jk"
   },
   "outputs": [],
   "source": [
    "eigenvalues,eigenvectors = linalg.eig(X_pca)"
   ]
  },
  {
   "cell_type": "code",
   "execution_count": null,
   "metadata": {
    "id": "e4vZg8tleH_b"
   },
   "outputs": [],
   "source": [
    "eigen_indices = argsort(eigen_values)[::-1]"
   ]
  },
  {
   "cell_type": "code",
   "execution_count": null,
   "metadata": {
    "id": "HY78IBNLL0Qd"
   },
   "outputs": [],
   "source": [
    "eigenvectors_sorted = eigen_vectors[eigen_indices]"
   ]
  },
  {
   "cell_type": "code",
   "execution_count": null,
   "metadata": {
    "colab": {
     "base_uri": "https://localhost:8080/"
    },
    "id": "PYmQc2E-MAht",
    "outputId": "59e1b881-cbd1-4c75-ad8e-6e307ced324c"
   },
   "outputs": [],
   "source": [
    "eigenvectors_sorted\n",
    "variance_explained = []\n",
    "for i in eigen_values :\n",
    "  variance_explained.append((i/sum(eigen_values))*100)\n",
    "print(variance_explained)"
   ]
  },
  {
   "cell_type": "code",
   "execution_count": null,
   "metadata": {
    "colab": {
     "base_uri": "https://localhost:8080/",
     "height": 407
    },
    "id": "yuWsZDZDMoTa",
    "outputId": "498dce14-5ef8-444f-f80d-88cec5e671b9"
   },
   "outputs": [],
   "source": [
    "with plt.style.context(\"ggplot\"):\n",
    "  plt.figure(figsize = (6,4))\n",
    "plt.bar(range(d),variance_explained,alpha = 0.5, align = \"center\", label = \"indiviual explained variance\")\n",
    "plt.ylabel(\"Explained Variance Ratio\")\n",
    "plt.xlabel(\"Principal Components\")\n",
    "plt.legend()\n",
    "plt.tight_layout()"
   ]
  },
  {
   "cell_type": "code",
   "execution_count": null,
   "metadata": {
    "id": "8R3zIiXO8CL8"
   },
   "outputs": [],
   "source": [
    "from sklearn.decomposition import PCA\n",
    "\n",
    "pca = PCA(n_components = 10)\n",
    "\n",
    "X_train_pca = pca.fit_transform(X_train)\n"
   ]
  },
  {
   "cell_type": "code",
   "execution_count": null,
   "metadata": {
    "colab": {
     "base_uri": "https://localhost:8080/"
    },
    "id": "Yw-EECjc4wtf",
    "outputId": "81011d98-b2b0-471d-c9a4-7f73038b2071"
   },
   "outputs": [],
   "source": [
    "X_train_pca[0].shape"
   ]
  },
  {
   "cell_type": "code",
   "execution_count": null,
   "metadata": {
    "colab": {
     "base_uri": "https://localhost:8080/",
     "height": 264
    },
    "id": "mxj1MOtw46G4",
    "outputId": "6956af3e-5d32-45cd-e853-6ca03a3b3c34"
   },
   "outputs": [],
   "source": [
    "plt.imshow(X_train_pca[0].reshape(2,5))\n",
    "plt.show()"
   ]
  },
  {
   "cell_type": "code",
   "execution_count": null,
   "metadata": {
    "id": "jBc_ZFHjwmDI"
   },
   "outputs": [],
   "source": [
    "X_test_pca = pca.transform(X_test)"
   ]
  },
  {
   "cell_type": "code",
   "execution_count": null,
   "metadata": {
    "colab": {
     "base_uri": "https://localhost:8080/"
    },
    "id": "Pm5UUXzrws3G",
    "outputId": "c550b897-55da-45b4-c0f9-f21850ba6c04"
   },
   "outputs": [],
   "source": [
    "X_test_pca.shape"
   ]
  },
  {
   "cell_type": "code",
   "execution_count": null,
   "metadata": {
    "colab": {
     "base_uri": "https://localhost:8080/"
    },
    "id": "f-3woCYo8tUx",
    "outputId": "8c1f5db1-5023-4827-e18e-e11b796eb818"
   },
   "outputs": [],
   "source": [
    "X_train_pca[0]-X_train[0,0:10]"
   ]
  },
  {
   "cell_type": "code",
   "execution_count": null,
   "metadata": {
    "colab": {
     "base_uri": "https://localhost:8080/"
    },
    "id": "gocKbtMXa8PV",
    "outputId": "5e57854f-d166-40f5-8040-a59b690f3140"
   },
   "outputs": [],
   "source": [
    "J = len(unique(Y_train))\n",
    "\n",
    "x_class=[]\n",
    "\n",
    "for j in range(J):\n",
    "  idx = array(where(Y_train == j))\n",
    "  x_class.append(X_train_pca[idx])\n",
    "print(x_class[0][0].shape)"
   ]
  },
  {
   "cell_type": "code",
   "execution_count": null,
   "metadata": {
    "id": "RYZWreGMaZJN"
   },
   "outputs": [],
   "source": [
    "def Gaussian_Density_fn(x,mu,sigma):\n",
    "\n",
    "    constant = 1/sqrt(2*pi*sigma**2)\n",
    "    term = exp(-(((x-mu)**2)/(2*sigma**2)))\n",
    "    pdf = constant*term\n",
    "    return pdf\n"
   ]
  },
  {
   "cell_type": "code",
   "execution_count": null,
   "metadata": {
    "id": "wOuT3JLfS-Dw"
   },
   "outputs": [],
   "source": [
    "def MultivariateGaussianPDF(x,mu,sigma):\n",
    "\n",
    "  #print(len(x))\n",
    "  constant = 1/(sqrt((2*pi)**len(x))*linalg.det(sigma)**(1/2))\n",
    "  term = exp(-((x-mu).reshape(len(x),1).transpose() @ linalg.inv(sigma) @ (x-mu).reshape(len(x),1))/2)\n",
    "\n",
    "  return constant * term"
   ]
  },
  {
   "cell_type": "code",
   "execution_count": null,
   "metadata": {
    "id": "GWpidsyoeOmC"
   },
   "outputs": [],
   "source": [
    "num_components = 3\n",
    "epsilon = 10**-1\n",
    "number_of_iterations = 30"
   ]
  },
  {
   "cell_type": "code",
   "execution_count": null,
   "metadata": {
    "id": "FfhsJAKBeJQe"
   },
   "outputs": [],
   "source": [
    "def EM(x):\n",
    "\n",
    "  llh =[]\n",
    "  alphas = ones((num_components,1))/num_components\n",
    "\n",
    "  mus = random.randn(num_components,shape(x)[1])\n",
    "\n",
    "  variances = array([eye(shape(x)[1]) for m in range(num_components)])\n",
    "\n",
    "  pxi0 = zeros((num_components,shape(x)[0]))\n",
    "  gammas = zeros((num_components,shape(x)[0]))\n",
    "\n",
    "  for ii in range(number_of_iterations):\n",
    "    if ii==0:\n",
    "      for m in range(num_components):\n",
    "        for i in range(shape(x)[0]):\n",
    "           pxi0[m,i] = MultivariateGaussianPDF(x[i].reshape(shape(x)[1],),mus[m],variances[m])*alphas[m]\n",
    "    else:\n",
    "      pxi0 = pxi1\n",
    "\n",
    "    for m in range(num_components):\n",
    "      for i in range(shape(x)[0]):\n",
    "        gammas[m,i] = pxi0[m,i]/numpy.sum(pxi0[:,i])\n",
    "\n",
    "    llh1 = 0\n",
    "    for i in range(shape(x)[0]):\n",
    "      llh1 = llh1 + log(numpy.sum(pxi0[:,i]))\n",
    "    if ii==0:\n",
    "      llh.append(llh1)\n",
    "\n",
    "    #Updation Occurs Here!!!\n",
    "\n",
    "    for m in range(num_components):\n",
    "      alphas[m] = numpy.sum(gammas[m,:])/shape(x)[0]\n",
    "    #print(alphas)\n",
    "\n",
    "    for m in range(num_components):\n",
    "\n",
    "      sum_mu = 0\n",
    "      for i in range(shape(x)[0]):\n",
    "        sum_mu = sum_mu + gammas[m,i]*x[i]\n",
    "      mus[m] = sum_mu/numpy.sum(gammas[m,:])\n",
    "    #print(mus)\n",
    "\n",
    "    for m in range(num_components):\n",
    "      sum_var = 0\n",
    "      for i in range(shape(x)[0]):\n",
    "           sum_var = sum_var + gammas[m,i]*(dot((x[i]-mus[m]).reshape(shape(x)[1],1),(x[i]-mus[m]).reshape(shape(x)[1],1).transpose()))\n",
    "      variances[m] = sum_var / numpy.sum(gammas[m,:])\n",
    "\n",
    "\n",
    "    #print(variances)\n",
    "    pxi1 = zeros((num_components,shape(x)[0]))\n",
    "\n",
    "    for m in range(num_components):\n",
    "      for i in range(shape(x)[0]):\n",
    "        pxi1[m,i] = MultivariateGaussianPDF(x[i].reshape(shape(x)[1],),mus[m],variances[m])*alphas[m]    #print(pxi0)\n",
    "\n",
    "    llh2 = 0\n",
    "\n",
    "    for i in range(shape(x)[0]):\n",
    "      llh2 = llh2 + log(numpy.sum(pxi1[:,i]))\n",
    "    llh.append(llh2)\n",
    "\n",
    "    if abs(llh[ii]-llh[ii-1])<=epsilon:\n",
    "      print(\"At iteration : {0}\".format(ii),\"our EM Algorithm Converges\")\n",
    "      print(\"And the loglikelyhood (till this iteration {0}) is :\".format(ii+1),llh)\n",
    "      break\n",
    "    elif(ii==number_of_iterations-1):\n",
    "      print(\"the loglikelyhood for the given class is (for all iterations till {0}) :\".format(ii+1),llh)\n",
    "\n",
    "  return alphas,mus,variances\n"
   ]
  },
  {
   "cell_type": "code",
   "execution_count": null,
   "metadata": {
    "id": "Ey79VmklehqF"
   },
   "outputs": [],
   "source": [
    "def train(data,classes):\n",
    "\n",
    "  J = len(unique(classes))\n",
    "  x_class=[]\n",
    "\n",
    "  for j in range(J):\n",
    "    idx = array(where(classes == j))\n",
    "    x_class.append(data[idx])\n",
    "\n",
    "  ALPHA = []\n",
    "  MU = []\n",
    "  SIGMA = []\n",
    "  for j in range(J):\n",
    "    print(\"Class {0}\".format(j))\n",
    "    alpha,mu,sigma = EM(x_class[j][0])\n",
    "    ALPHA.append(alpha)\n",
    "    MU.append(mu)\n",
    "    SIGMA.append(sigma)\n",
    "  return ALPHA , MU, SIGMA\n"
   ]
  },
  {
   "cell_type": "code",
   "execution_count": null,
   "metadata": {
    "colab": {
     "base_uri": "https://localhost:8080/"
    },
    "id": "dtLKLvXIe2oc",
    "outputId": "eafe991e-3823-4fb2-e3fb-77e4d4d8ad1a"
   },
   "outputs": [],
   "source": [
    "ALPHA,MU,SIGMA = train(X_train_pca,Y_train)"
   ]
  },
  {
   "cell_type": "code",
   "execution_count": null,
   "metadata": {
    "colab": {
     "base_uri": "https://localhost:8080/"
    },
    "id": "UBoBhamEySS2",
    "outputId": "1990188e-b4c8-4aa9-996e-56a7a2bbf70d"
   },
   "outputs": [],
   "source": [
    "ALPHA[0].shape"
   ]
  },
  {
   "cell_type": "code",
   "execution_count": null,
   "metadata": {
    "id": "PgxeBUSk-G0G"
   },
   "outputs": [],
   "source": [
    "def test(xtest):\n",
    "\n",
    "  pxi = zeros((J,shape(xtest)[0]))\n",
    "\n",
    "  for j in range(J):\n",
    "    for i in range(shape(xtest)[0]):\n",
    "      temparr = zeros((num_components,1))\n",
    "      for m in range(num_components):\n",
    "        temparr[m] = MultivariateGaussianPDF(xtest[i],MU[j][m],SIGMA[j][m])\n",
    "      pxi[j,i] = dot(ALPHA[j].transpose() , temparr)\n",
    "\n",
    "  y_pred = zeros((shape(xtest)[0],1))\n",
    "\n",
    "  for i in range(shape(xtest)[0]):\n",
    "    y_pred[i] = argmax(pxi[:,i])\n",
    "\n",
    "  return y_pred"
   ]
  },
  {
   "cell_type": "code",
   "execution_count": null,
   "metadata": {
    "id": "xkTq1KUnweY1"
   },
   "outputs": [],
   "source": [
    "y_pred = test(X_test_pca)"
   ]
  },
  {
   "cell_type": "code",
   "execution_count": null,
   "metadata": {
    "colab": {
     "base_uri": "https://localhost:8080/"
    },
    "id": "c06xgSbIz2YY",
    "outputId": "e896f846-fb0a-4b36-fbaa-76c9ced8b8b3"
   },
   "outputs": [],
   "source": [
    "y_pred"
   ]
  },
  {
   "cell_type": "code",
   "execution_count": null,
   "metadata": {
    "id": "8IecYjpQwTpe"
   },
   "outputs": [],
   "source": [
    "def evaluation(ytest):\n",
    "    c=0\n",
    "\n",
    "    for i in range(shape(ytest)[0]):\n",
    "      if y_pred[i] == ytest[i]:\n",
    "        c = c+1\n",
    "\n",
    "    accuracy = (c/shape(ytest)[0])*100\n",
    "\n",
    "    print(\"Accuracy:\",accuracy)\n",
    "\n",
    "    return accuracy"
   ]
  },
  {
   "cell_type": "code",
   "execution_count": null,
   "metadata": {
    "colab": {
     "base_uri": "https://localhost:8080/"
    },
    "id": "H3cy7hGgzsOA",
    "outputId": "eb2d6a3f-c9c9-4ee2-cf30-99b8b75592da"
   },
   "outputs": [],
   "source": [
    "evaluate = evaluation(Y_test)"
   ]
  }
 ],
 "metadata": {
  "colab": {
   "provenance": []
  },
  "kernelspec": {
   "display_name": "Python 3",
   "name": "python3"
  },
  "language_info": {
   "name": "python"
  }
 },
 "nbformat": 4,
 "nbformat_minor": 0
}
