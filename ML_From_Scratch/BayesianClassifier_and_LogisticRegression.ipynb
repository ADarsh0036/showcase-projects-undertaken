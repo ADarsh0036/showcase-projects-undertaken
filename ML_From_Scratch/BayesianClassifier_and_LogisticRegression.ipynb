{
 "cells": [
  {
   "cell_type": "markdown",
   "metadata": {
    "id": "fMTSUDZAqw0D"
   },
   "source": [
    "## Here In This Notebook there are the implementation of the Naive Bayesian Classifier and the Logistic Regressor for the Multi Class Classification on the K-MNIST Dataset."
   ]
  },
  {
   "cell_type": "markdown",
   "metadata": {
    "id": "OXJufuc2dDLi"
   },
   "source": [
    "Assignment-1\n",
    "P4\n",
    "a)"
   ]
  },
  {
   "cell_type": "code",
   "execution_count": null,
   "metadata": {
    "id": "dXswgC1HdBlw"
   },
   "outputs": [],
   "source": [
    "import numpy\n",
    "from numpy import *\n",
    "import matplotlib.pyplot as plot"
   ]
  },
  {
   "cell_type": "code",
   "execution_count": null,
   "metadata": {
    "colab": {
     "base_uri": "https://localhost:8080/"
    },
    "id": "OP4Y2IaCeDK-",
    "outputId": "52ce9e9e-aa79-4573-9531-c1d5c52896fc"
   },
   "outputs": [],
   "source": [
    "from google.colab import drive\n",
    "drive.mount(\"/content/drive\")"
   ]
  },
  {
   "cell_type": "markdown",
   "metadata": {
    "id": "3fw-Lj99hJ43"
   },
   "source": [
    "## Making the Data to be Ready"
   ]
  },
  {
   "cell_type": "code",
   "execution_count": null,
   "metadata": {
    "id": "z1TdZ8xGd9fY"
   },
   "outputs": [],
   "source": [
    "data_raw=genfromtxt(\"/content/drive/MyDrive/Data/PRNN/Assignment_1/Kannada-MNIST/train.csv\",delimiter=\",\")"
   ]
  },
  {
   "cell_type": "code",
   "execution_count": null,
   "metadata": {
    "colab": {
     "base_uri": "https://localhost:8080/"
    },
    "id": "2gFjVoRufCqf",
    "outputId": "0c845233-843c-402e-961c-a32f0710ea41"
   },
   "outputs": [],
   "source": [
    "X_raw,Y_raw=data_raw[1:,1:],data_raw[1:,0]\n",
    "X_raw=X_raw/255\n",
    "Y_raw=Y_raw.astype(int)\n",
    "N,d=shape(X_raw)\n",
    "print(N,d)"
   ]
  },
  {
   "cell_type": "code",
   "execution_count": null,
   "metadata": {
    "id": "NFxh5K04Y_e5"
   },
   "outputs": [],
   "source": [
    "Ns=6000  #samples_of_choice\n",
    "\n",
    "random_index=random.choice(arange(N),Ns)"
   ]
  },
  {
   "cell_type": "code",
   "execution_count": null,
   "metadata": {
    "colab": {
     "base_uri": "https://localhost:8080/"
    },
    "id": "Mydn1A_cICMv",
    "outputId": "6f990227-15fa-4bf6-a0a8-a977a4ad02db"
   },
   "outputs": [],
   "source": [
    "Y_raw"
   ]
  },
  {
   "cell_type": "code",
   "execution_count": null,
   "metadata": {
    "colab": {
     "base_uri": "https://localhost:8080/"
    },
    "id": "eociITOQaKxJ",
    "outputId": "e02799d4-e6dd-461f-c5c3-c33d0e05939c"
   },
   "outputs": [],
   "source": [
    "X_raw[random_index].shape"
   ]
  },
  {
   "cell_type": "code",
   "execution_count": null,
   "metadata": {
    "id": "QKfSoj_1JbMN"
   },
   "outputs": [],
   "source": [
    "noise = random.rand(Ns,d)\n",
    "X_raw=X_raw[random_index]+0.1*noise\n",
    "Y_raw=Y_raw[random_index]"
   ]
  },
  {
   "cell_type": "code",
   "execution_count": null,
   "metadata": {
    "colab": {
     "base_uri": "https://localhost:8080/"
    },
    "id": "0dV0aBupkqT2",
    "outputId": "0dc98915-c9aa-495f-998e-a78331a97681"
   },
   "outputs": [],
   "source": [
    "X1=(X_raw[0,:])#+0.1*noise[0,:]\n",
    "\n",
    "#X1=X_raw[0,:].astype(int)\n",
    "X1/255\n",
    "X1.shape\n",
    "\n",
    "#plot.imshow(resize((X1/255),(28,28)),cmap=\"gray\")"
   ]
  },
  {
   "cell_type": "code",
   "execution_count": null,
   "metadata": {
    "id": "vZy5xYKBpW7V"
   },
   "outputs": [],
   "source": [
    "train_test_split_ratio=0.9\n",
    "train_split=train_test_split_ratio*float(Ns)\n",
    "test_split=round((1-train_test_split_ratio)*float(Ns))"
   ]
  },
  {
   "cell_type": "code",
   "execution_count": null,
   "metadata": {
    "colab": {
     "base_uri": "https://localhost:8080/"
    },
    "id": "B87KRqVSSF7g",
    "outputId": "12b0d7ec-acda-4a9e-babf-d80eb29dab74"
   },
   "outputs": [],
   "source": [
    "# train_index=random.choice(arange(N),int(train_split))\n",
    "# train_index.shape\n",
    "# test_index=\n",
    "test_split"
   ]
  },
  {
   "cell_type": "code",
   "execution_count": null,
   "metadata": {
    "id": "gbhZ2QHpVFCZ"
   },
   "outputs": [],
   "source": [
    "train_X,train_Y=X_raw[0:int(train_split)],Y_raw[0:int(train_split)]\n",
    "test_X,test_Y=X_raw[Ns-int(test_split):Ns],Y_raw[Ns-int(test_split):Ns]"
   ]
  },
  {
   "cell_type": "code",
   "execution_count": null,
   "metadata": {
    "id": "C6D0EPqvILFN"
   },
   "outputs": [],
   "source": [
    "test_Y"
   ]
  },
  {
   "cell_type": "code",
   "execution_count": null,
   "metadata": {
    "colab": {
     "base_uri": "https://localhost:8080/"
    },
    "id": "nLivsS4LmSkn",
    "outputId": "2ea23424-b9e7-4ff4-a802-8b01772f9721"
   },
   "outputs": [],
   "source": [
    "K=10\n",
    "labels=array([range(0,K)])\n",
    "C=[]\n",
    "X_tr=[]\n",
    "for j in range(K):\n",
    "\n",
    "  C_j=where(train_Y==j)         #set of indexes where a particular class Y==j\n",
    "  c_j=len(C_j[0])                  #Cardinality of that set\n",
    "  C.append(c_j)\n",
    "  X_tr.append(train_X[C_j,:])\n",
    "C_j\n",
    "numpy.sum(C)"
   ]
  },
  {
   "cell_type": "code",
   "execution_count": null,
   "metadata": {
    "id": "XXUIfBJ-b0m3"
   },
   "outputs": [],
   "source": [
    "X_train=X_tr"
   ]
  },
  {
   "cell_type": "code",
   "execution_count": null,
   "metadata": {
    "colab": {
     "base_uri": "https://localhost:8080/"
    },
    "id": "9l3BZou31tcg",
    "outputId": "c9be434c-2477-4519-e102-b57b02de7882"
   },
   "outputs": [],
   "source": [
    "X_train[0].shape\n",
    "X_train[0][0]\n",
    "Xk=reshape(X_train[0][0][1],(1,d))\n",
    "Xk.shape\n",
    "# for j in range(10):\n",
    "#   print(j)\n",
    "#   j=j+1\n",
    "# j"
   ]
  },
  {
   "cell_type": "code",
   "execution_count": null,
   "metadata": {
    "colab": {
     "base_uri": "https://localhost:8080/"
    },
    "id": "4c6-dIHdOMME",
    "outputId": "532f6e0d-bdfa-41f2-ed78-89d92e452c8e"
   },
   "outputs": [],
   "source": [
    "X_train[0][0][0].shape"
   ]
  },
  {
   "cell_type": "markdown",
   "metadata": {
    "id": "Wd5HnAiVhaVj"
   },
   "source": [
    "## Calculating the Sample Means and Sample Covariances for each of the classes"
   ]
  },
  {
   "cell_type": "code",
   "execution_count": null,
   "metadata": {
    "id": "-Q8m6nMl0ZiL"
   },
   "outputs": [],
   "source": [
    "def SecondOrderStatistics(training_data):\n",
    "\n",
    "  Sample_mean=[]\n",
    "  Sample_covariances=[]\n",
    "  sum1,sum2=0,0\n",
    "\n",
    "  for j in range(K):\n",
    "    for jj in range(C[j]):\n",
    "      X_i=reshape(training_data[j][0][jj],(1,d))\n",
    "      sum1=sum1+(X_i)\n",
    "    Sample_mean.append(sum1/C[j])\n",
    "    sum1=0\n",
    "    for ii in range(C[j]):\n",
    "      X_ii=reshape(training_data[j][0][ii],(1,d))\n",
    "      sum2=sum2+(X_ii-Sample_mean[j]).T * (X_ii-Sample_mean[j])\n",
    "    Sample_covariances.append(sum2/C[j])\n",
    "    sum2=0\n",
    "  return Sample_mean,Sample_covariances"
   ]
  },
  {
   "cell_type": "markdown",
   "metadata": {
    "id": "sClZpc-6k4RS"
   },
   "source": [
    "#Basically building the Multivariate Gaussians for each classes"
   ]
  },
  {
   "cell_type": "code",
   "execution_count": null,
   "metadata": {
    "colab": {
     "base_uri": "https://localhost:8080/"
    },
    "id": "QO39diFGG11e",
    "outputId": "fecb4258-ee50-40cc-e33d-e1d23f6f8bb7"
   },
   "outputs": [],
   "source": [
    "Sample_mean,Sample_covariances = SecondOrderStatistics(X_train)\n",
    "Sample_mean,Sample_covariances=array(Sample_mean),array(Sample_covariances)\n",
    "print(Sample_mean.shape,Sample_covariances.shape)"
   ]
  },
  {
   "cell_type": "code",
   "execution_count": null,
   "metadata": {
    "colab": {
     "base_uri": "https://localhost:8080/",
     "height": 447
    },
    "id": "str6aGFqHv3C",
    "outputId": "6d124b76-4dd3-4ed8-921b-804c18fb2ab8"
   },
   "outputs": [],
   "source": [
    "plot.imshow(reshape(Sample_mean[random.choice(10,1)],(28,28)),cmap=\"gray\")"
   ]
  },
  {
   "cell_type": "code",
   "execution_count": null,
   "metadata": {
    "colab": {
     "base_uri": "https://localhost:8080/"
    },
    "id": "UZid4QyCPPu7",
    "outputId": "b5ca3f91-2885-418e-f31b-a6754cace74e"
   },
   "outputs": [],
   "source": [
    "X_train[0][0][0][0].shape\n",
    "X_train[0].shape"
   ]
  },
  {
   "cell_type": "markdown",
   "metadata": {
    "id": "dxQJ53kkhjlS"
   },
   "source": [
    "Since we are building the Naive Bayes Classifier, we take all our pixels to be independent and that's why our covariance matrix will be diagonal, and , here is the code for the same"
   ]
  },
  {
   "cell_type": "code",
   "execution_count": null,
   "metadata": {
    "id": "r5CRumoiPX-5"
   },
   "outputs": [],
   "source": [
    "def NaiveCovarianceMatrix(training_data,sample_mean):\n",
    "  naive_covariance_mat=[]\n",
    "  #temp=zeros((d,d))\n",
    "  for j in range(K):\n",
    "    X_mi=training_data[j]\n",
    "    sum=0\n",
    "    temp=zeros((d,d))\n",
    "    for m in range(d):\n",
    "      sum=dot((X_mi[0,:,m].reshape(1,C[j])-sample_mean[j,0,m]),(X_mi[0,:,m].reshape(C[j],1)-sample_mean[j,0,m]))\n",
    "      temp[m,m]=sum/C[j]\n",
    "    naive_covariance_mat.append(temp)\n",
    "  return naive_covariance_mat"
   ]
  },
  {
   "cell_type": "code",
   "execution_count": null,
   "metadata": {
    "colab": {
     "base_uri": "https://localhost:8080/"
    },
    "id": "Ov06o6M9lmMR",
    "outputId": "d83b4f08-21d2-486b-c997-f54009f0bd67"
   },
   "outputs": [],
   "source": [
    "naive_covariance_mat = NaiveCovarianceMatrix(X_train,Sample_mean)\n",
    "naive_covariance_mat=array(naive_covariance_mat)\n",
    "naive_covariance_mat.shape"
   ]
  },
  {
   "cell_type": "code",
   "execution_count": null,
   "metadata": {
    "colab": {
     "base_uri": "https://localhost:8080/"
    },
    "id": "CcHOSmPi4rdF",
    "outputId": "a2130139-12ef-43fa-ce2e-b63ecd0133e5"
   },
   "outputs": [],
   "source": [
    "naive_covariance_mat.shape"
   ]
  },
  {
   "cell_type": "code",
   "execution_count": null,
   "metadata": {
    "colab": {
     "base_uri": "https://localhost:8080/"
    },
    "id": "UT4NVWEb8tD_",
    "outputId": "d41cf4de-e8f3-4367-966c-068eec44f69a"
   },
   "outputs": [],
   "source": [
    "diag=[]\n",
    "\n",
    "for j in range(K):\n",
    "  for m in range(d):\n",
    "    diag.append(naive_covariance_mat[j,m,m])\n",
    "diag=array(diag)\n",
    "diag=diag.reshape(10,1,784)\n",
    "diag[0]\n",
    "diag[0].shape\n",
    "\n"
   ]
  },
  {
   "cell_type": "code",
   "execution_count": null,
   "metadata": {
    "colab": {
     "base_uri": "https://localhost:8080/"
    },
    "id": "nF-1b0hLNJ9O",
    "outputId": "40345aed-93c0-4082-f775-da92ccd99d6d"
   },
   "outputs": [],
   "source": [
    "test_X[0,:].shape"
   ]
  },
  {
   "cell_type": "markdown",
   "metadata": {
    "id": "K5En9c8dh_pQ"
   },
   "source": [
    "Since, the dimension is large det(naive_covariance_mat) = 0,\n",
    "and hence, we go by taking the log of the likelyhood so that the log(det(naive_covariance_mat)) = numpy.sum(log(diag))"
   ]
  },
  {
   "cell_type": "code",
   "execution_count": null,
   "metadata": {
    "id": "uAPd_gC2JZV-"
   },
   "outputs": [],
   "source": [
    "def loglikelyhoods(testing_data,sample_mean,naive_covariance_matrix):\n",
    "  log_likelyhood_mat=zeros((K,int(testing_data.shape[0])))\n",
    "  constant=-(testing_data.shape[1]/2)*log(2*pi)\n",
    "  diag=[]\n",
    "\n",
    "  for j in range(K):\n",
    "    for m in range(testing_data.shape[1]):\n",
    "      diag.append(naive_covariance_matrix[j,m,m])\n",
    "  diag=array(diag)\n",
    "  diag=diag.reshape(K,1,testing_data.shape[1])\n",
    "  for j in range(K):\n",
    "    for m in range(int(test_split)):\n",
    "      x_m=reshape(testing_data[m,:],(1,testing_data.shape[1]))\n",
    "      log_likelyhood_mat[j,m]=(constant+((-1/2)*numpy.sum(log(diag[j])))-\n",
    "       ((testing_data[m,:].reshape(1,testing_data.shape[1])-Sample_mean[j]) @ linalg.inv(naive_covariance_mat[j]) @ (testing_data[m,:].reshape(testing_data.shape[1],1)-Sample_mean[j].reshape(testing_data.shape[1],1))))\n",
    "  return log_likelyhood_mat"
   ]
  },
  {
   "cell_type": "code",
   "execution_count": null,
   "metadata": {
    "colab": {
     "base_uri": "https://localhost:8080/"
    },
    "id": "yc2eqNKwlrcS",
    "outputId": "2d811760-ac93-48f8-c2a3-676dee499597"
   },
   "outputs": [],
   "source": [
    "c=0\n",
    "for i in range(d):\n",
    "  for j in range(d):\n",
    "    if i==j and naive_covariance_mat[3,i,j]!=0:\n",
    "     c=c+1\n",
    "print(c)"
   ]
  },
  {
   "cell_type": "markdown",
   "metadata": {
    "id": "o3HaH9s-icmc"
   },
   "source": [
    "Testing our Data!!!"
   ]
  },
  {
   "cell_type": "code",
   "execution_count": null,
   "metadata": {
    "id": "-YGCcBUN7D3D"
   },
   "outputs": [],
   "source": [
    "log_likelihood_mat = loglikelyhoods(test_X,Sample_mean,naive_covariance_mat)\n",
    "y_pred=[]\n",
    "for j in range(int(test_split)):\n",
    "  m_index=where(log_likelihood_mat[:,j]==max(log_likelihood_mat[:,j]))\n",
    "  y_pred.append(array(m_index))\n",
    "y_pred=array(y_pred)\n"
   ]
  },
  {
   "cell_type": "code",
   "execution_count": null,
   "metadata": {
    "colab": {
     "base_uri": "https://localhost:8080/"
    },
    "id": "Xs-9hkliCrSG",
    "outputId": "1371c9be-682e-4a51-a9b2-a4a92e21e04c"
   },
   "outputs": [],
   "source": [
    "print(y_pred.shape,shape(test_Y))\n"
   ]
  },
  {
   "cell_type": "code",
   "execution_count": null,
   "metadata": {
    "colab": {
     "base_uri": "https://localhost:8080/"
    },
    "id": "9pDcw_bJ8UJW",
    "outputId": "6e83f43d-fe62-4365-caf6-956be6ffd85a"
   },
   "outputs": [],
   "source": [
    "c=0\n",
    "for i in range(int(test_split)):\n",
    "  if y_pred[i]-test_Y[i]!=0:\n",
    "    c=c+1\n",
    "accuracy=(1-(c/test_split))*100\n",
    "print(\"accuracy:\",accuracy)"
   ]
  },
  {
   "cell_type": "code",
   "execution_count": null,
   "metadata": {
    "colab": {
     "base_uri": "https://localhost:8080/"
    },
    "id": "0wYEkHGKKok9",
    "outputId": "c22a10a5-7580-4cf0-a0a7-c00637336182"
   },
   "outputs": [],
   "source": [
    "shape(labels)"
   ]
  },
  {
   "cell_type": "code",
   "execution_count": null,
   "metadata": {
    "colab": {
     "base_uri": "https://localhost:8080/"
    },
    "id": "yoW1G4VnLPun",
    "outputId": "54093978-5882-4927-d95b-37bc794537df"
   },
   "outputs": [],
   "source": [
    "from sklearn.metrics import confusion_matrix\n",
    "\n",
    "confusion_mattrix=confusion_matrix(y_pred[:,:,0],test_Y)\n",
    "confusion_mattrix"
   ]
  },
  {
   "cell_type": "markdown",
   "metadata": {
    "id": "ScNfGLeHVgYA"
   },
   "source": [
    "#Sampling from the Estimated Distributions:\n",
    "To demonstrate its Generative Nature.\n",
    "\n",
    "Since, we have assumed the distributions and have got the Parameters by ML estimate , now our this model can gererate the samples.!!!"
   ]
  },
  {
   "cell_type": "code",
   "execution_count": null,
   "metadata": {
    "id": "t1PBgJF0cAjf"
   },
   "outputs": [],
   "source": [
    "#Sample from the Estimated Gaussian\n",
    "x = random.multivariate_normal(mean = Sample_mean[1][0], cov = Sample_covariances[1])"
   ]
  },
  {
   "cell_type": "code",
   "execution_count": null,
   "metadata": {
    "colab": {
     "base_uri": "https://localhost:8080/",
     "height": 430
    },
    "id": "J6_kLdRucm-R",
    "outputId": "4b31dec8-498f-46f7-93b3-881256f98d05"
   },
   "outputs": [],
   "source": [
    "plot.imshow(x.reshape(28,28),cmap = \"gray\")\n",
    "plot.show()"
   ]
  },
  {
   "cell_type": "markdown",
   "metadata": {
    "id": "fhKXHIiqHdYj"
   },
   "source": [
    "b) Logistic Regression With Gradient Descent"
   ]
  },
  {
   "cell_type": "code",
   "execution_count": null,
   "metadata": {
    "id": "XwF9kkVwHfW7"
   },
   "outputs": [],
   "source": [
    "X_raw,Y_raw=data_raw[1:,1:],data_raw[1:,0]\n",
    "X_raw,Y_raw=X_raw/255, Y_raw.astype(int)\n",
    "N,d=shape(X_raw)"
   ]
  },
  {
   "cell_type": "code",
   "execution_count": null,
   "metadata": {
    "colab": {
     "base_uri": "https://localhost:8080/"
    },
    "id": "5Msyqzt9VVJJ",
    "outputId": "c57ce9b0-b215-4e21-b214-ec0ad9587993"
   },
   "outputs": [],
   "source": [
    "labels=unique(Y_raw)\n",
    "labels.shape"
   ]
  },
  {
   "cell_type": "code",
   "execution_count": null,
   "metadata": {
    "id": "wrpHox5_VdOQ"
   },
   "outputs": [],
   "source": [
    "Ns=10000\n",
    "random_samples=random.choice(arange(N),Ns)"
   ]
  },
  {
   "cell_type": "code",
   "execution_count": null,
   "metadata": {
    "id": "1GIBUc9yWvv3"
   },
   "outputs": [],
   "source": [
    "X_raw1,Y_raw1=X_raw[random_samples],Y_raw[random_samples]"
   ]
  },
  {
   "cell_type": "code",
   "execution_count": null,
   "metadata": {
    "colab": {
     "base_uri": "https://localhost:8080/"
    },
    "id": "YCIvG1GOfSjb",
    "outputId": "90244913-e0cf-4f8e-936c-644688a57b24"
   },
   "outputs": [],
   "source": [
    "Y_raw1.shape"
   ]
  },
  {
   "cell_type": "code",
   "execution_count": null,
   "metadata": {
    "id": "GSMqLQXDc7pM"
   },
   "outputs": [],
   "source": [
    "train_test_split_ratio=0.9\n",
    "\n",
    "train_split=int(train_test_split_ratio*Ns)\n",
    "test_split=int(Ns-train_split)"
   ]
  },
  {
   "cell_type": "code",
   "execution_count": null,
   "metadata": {
    "colab": {
     "base_uri": "https://localhost:8080/"
    },
    "id": "V5LOgieCdLlY",
    "outputId": "f75b1f25-6cde-45fd-a22f-ac5870f7ba46"
   },
   "outputs": [],
   "source": [
    "train_split"
   ]
  },
  {
   "cell_type": "code",
   "execution_count": null,
   "metadata": {
    "colab": {
     "base_uri": "https://localhost:8080/"
    },
    "id": "_EmCeYnRW6pv",
    "outputId": "0ed94b4c-1ba4-4f1d-b75d-f25fd72b09eb"
   },
   "outputs": [],
   "source": [
    "print(X_raw1.shape)\n",
    "bias_vector=ones((Ns,1))\n",
    "X_raw2=concatenate((X_raw1,bias_vector),axis=1)\n",
    "\n",
    "\n",
    "X_raw2.shape\n",
    "X_train,X_test=X_raw2[0:train_split],X_raw2[Ns-test_split:Ns]\n",
    "\n",
    "X_train.shape,X_test.shape"
   ]
  },
  {
   "cell_type": "code",
   "execution_count": null,
   "metadata": {
    "colab": {
     "base_uri": "https://localhost:8080/",
     "height": 447
    },
    "id": "mzZSSpHDjyrj",
    "outputId": "4d929cc0-e640-435f-94e9-a5af519e12cb"
   },
   "outputs": [],
   "source": [
    "plot.imshow(X_train[0,0:d].reshape(28,28),cmap=\"gray\")#.shape"
   ]
  },
  {
   "cell_type": "code",
   "execution_count": null,
   "metadata": {
    "id": "sFLMAooYZDbu"
   },
   "outputs": [],
   "source": [
    "Y_raw_onehot=zeros((Ns,len(labels)),int)\n",
    "\n",
    "for j in (labels):\n",
    "  for i in range(Ns):\n",
    "    if Y_raw1[i]==j:\n",
    "      Y_raw_onehot[i,j]=1\n",
    "\n"
   ]
  },
  {
   "cell_type": "code",
   "execution_count": null,
   "metadata": {
    "colab": {
     "base_uri": "https://localhost:8080/"
    },
    "id": "jDYrH03PiSIJ",
    "outputId": "5bd66e3d-471d-4d3d-ce1a-6ce778cbf188"
   },
   "outputs": [],
   "source": [
    "Y_raw_onehot[1]"
   ]
  },
  {
   "cell_type": "code",
   "execution_count": null,
   "metadata": {
    "id": "OjfL4ut3Xyzt"
   },
   "outputs": [],
   "source": [
    "Y_train,Y_test=Y_raw_onehot[0:train_split],Y_raw_onehot[train_split:Ns]"
   ]
  },
  {
   "cell_type": "code",
   "execution_count": null,
   "metadata": {
    "id": "LIvzZK7misDb"
   },
   "outputs": [],
   "source": [
    "W=ones((len(labels),d+1))\n"
   ]
  },
  {
   "cell_type": "code",
   "execution_count": null,
   "metadata": {
    "id": "Qlz_EXK1i6jY"
   },
   "outputs": [],
   "source": [
    "Z=zeros((len(labels),train_split))\n",
    "\n",
    "for j in (labels):\n",
    "  for i in range(train_split):\n",
    "    Z[j,i]=dot(W[j,:].reshape(1,d+1),X_train[i,:].reshape(d+1,1))\n"
   ]
  },
  {
   "cell_type": "code",
   "execution_count": null,
   "metadata": {
    "colab": {
     "base_uri": "https://localhost:8080/"
    },
    "id": "hBsgy304ZY_Z",
    "outputId": "198efee6-7b18-4fa8-8714-c0acbe2a805f"
   },
   "outputs": [],
   "source": [
    "dot(W[3,:].reshape(1,d+1),X_train[0,:].reshape(d+1,1))"
   ]
  },
  {
   "cell_type": "code",
   "execution_count": null,
   "metadata": {
    "colab": {
     "base_uri": "https://localhost:8080/"
    },
    "id": "KBnxMBSOZGxS",
    "outputId": "1df0d323-5874-4979-a349-89372951e8e3"
   },
   "outputs": [],
   "source": [
    "numpy.sum(exp(Z[:,0]))"
   ]
  },
  {
   "cell_type": "code",
   "execution_count": null,
   "metadata": {
    "id": "H-1vMZzQjs-h"
   },
   "outputs": [],
   "source": [
    "H=zeros((len(labels),train_split))\n",
    "\n",
    "for i in range(train_split):\n",
    "  for j in (labels):\n",
    "    H[j,i]=exp(Z[j,i])/numpy.sum(exp(Z[:,i]))\n"
   ]
  },
  {
   "cell_type": "code",
   "execution_count": null,
   "metadata": {
    "colab": {
     "base_uri": "https://localhost:8080/"
    },
    "id": "L5ekgIssY8b8",
    "outputId": "dd38b7e1-0010-44d1-b2b5-5094e0530070"
   },
   "outputs": [],
   "source": [
    "H"
   ]
  },
  {
   "cell_type": "code",
   "execution_count": null,
   "metadata": {
    "colab": {
     "base_uri": "https://localhost:8080/"
    },
    "id": "jQikoci-g3rn",
    "outputId": "3c4edd0b-7e85-42d5-bc7c-daa80ade6a39"
   },
   "outputs": [],
   "source": [
    "array_0=[0,1]#,9,8]\n",
    "\n",
    "H[:,array_0]"
   ]
  },
  {
   "cell_type": "code",
   "execution_count": null,
   "metadata": {
    "colab": {
     "base_uri": "https://localhost:8080/"
    },
    "id": "s-UMDdJbXp2T",
    "outputId": "737753f7-45c5-4bc3-8bcc-d9f151a7d9bd"
   },
   "outputs": [],
   "source": [
    "numpy.sum(H[:,0])"
   ]
  },
  {
   "cell_type": "code",
   "execution_count": null,
   "metadata": {
    "id": "PVWjVEbpTtHW"
   },
   "outputs": [],
   "source": [
    "def empirical_risk(Y,LOGH):\n",
    "  sum=0\n",
    "\n",
    "  for i in range(train_split):\n",
    "\n",
    "    sum=sum-dot(reshape(Y_train[i,:],(1,len(labels))),reshape(log(H[:,i]),(len(labels),1)))\n",
    "\n",
    "  return sum"
   ]
  },
  {
   "cell_type": "code",
   "execution_count": null,
   "metadata": {
    "id": "pnNbYWP3Yk3S"
   },
   "outputs": [],
   "source": [
    "risk=empirical_risk(Y_train,H)"
   ]
  },
  {
   "cell_type": "code",
   "execution_count": null,
   "metadata": {
    "colab": {
     "base_uri": "https://localhost:8080/"
    },
    "id": "X5F_2KFoYrwp",
    "outputId": "c4a51d9d-2eb2-4677-9bd1-5a79cf9821b7"
   },
   "outputs": [],
   "source": [
    "risk"
   ]
  },
  {
   "cell_type": "code",
   "execution_count": null,
   "metadata": {
    "id": "cX7XfwzFe-MW"
   },
   "outputs": [],
   "source": [
    "def gradient(X_train,Y_train,W_vector,H,m):\n",
    "  train_split=len(X_train[:,0])\n",
    "  sum=0\n",
    "\n",
    "  for i in range(train_split):\n",
    "    h_mat=zeros((len(labels),d+1))\n",
    "    # sum=0\n",
    "\n",
    "    for j in (labels):\n",
    "      if j!=m :\n",
    "        h_mat[j,:]=X_train[i,:]*H[m,i]\n",
    "      elif j==m:\n",
    "        h_mat[j,:]=X_train[i,:]*(H[m,i]-1)\n",
    "    sum = sum +dot(Y_train[i,:].reshape(1,len(labels)),h_mat)\n",
    "\n",
    "  return sum\n",
    "\n",
    "\n",
    "\n",
    "\n",
    "def stochastic_gradient(H,number_of_samples):\n",
    "\n",
    "  iterations=1000\n",
    "  Batch=number_of_samples\n",
    "  # X_Batch=X_train[Batch]\n",
    "  # H_Batch=H\n",
    "  Ones=ones((len(Batch),1))\n",
    "\n",
    "  for i in range(1000):\n",
    "    sum1,sum2=0,0\n",
    "    for b in (Batch):\n",
    "      sum1=sum1+X_train[b]*(1-H[b])\n",
    "    sum2=sum2+sum1\n",
    "\n",
    "  return sum2/1000\n",
    "\n",
    "\n",
    "\n"
   ]
  },
  {
   "cell_type": "code",
   "execution_count": null,
   "metadata": {
    "colab": {
     "base_uri": "https://localhost:8080/",
     "height": 1000
    },
    "id": "kUrz6yuRcdxx",
    "outputId": "d105fd48-07c1-4267-a6d7-96a09233a943"
   },
   "outputs": [],
   "source": [
    "W=ones((len(labels),d+1))\n",
    "\n",
    "Z=zeros((len(labels),train_split))\n",
    "\n",
    "for j in (labels):\n",
    "  for i in range(train_split):\n",
    "    Z[j,i]=dot(W[j,:].reshape(1,d+1),X_train[i,:].reshape(d+1,1))\n",
    "\n",
    "H=zeros((len(labels),train_split))\n",
    "\n",
    "for i in range(train_split):\n",
    "  for j in (labels):\n",
    "    H[j,i]=exp(Z[j,i])/numpy.sum(exp(Z[:,i]))\n",
    "\n",
    "\n",
    "\n",
    "alpha=0.0001  #Learning Rate:\n",
    "\n",
    "for ii in range(10000):\n",
    "\n",
    "  # if ii==0:\n",
    "  #risk_old=risk\n",
    "\n",
    "  risk_old=empirical_risk(Y_train,H)\n",
    "  # random_samps=random.choice(arange(train_split),100)\n",
    "  for m in (labels):\n",
    "    W[m,:]=W[m,:].reshape(1,d+1)-alpha*gradient(X_train,Y_train,W[j,:].reshape(1,d+1),H,m)\n",
    "  # if ii==0:\n",
    "  #   break\n",
    "\n",
    "\n",
    "\n",
    "  # if ii==0:\n",
    "  #   print(Z)\n",
    "  for jj in ((labels)):\n",
    "    for iii in range(train_split):\n",
    "      Z[jj,iii]=dot(W[jj,:].reshape(1,d+1),X_train[iii,:].reshape(d+1,1))\n",
    "\n",
    "  # if ii==0:\n",
    "  #   print(H)\n",
    "  for jjj in ((labels)):\n",
    "    for iiii in range(train_split):\n",
    "      H[jjj,iiii]=exp(Z[jjj,iiii])/numpy.sum(exp(Z[:,iiii]))\n",
    "  # if ii==0:\n",
    "  #   print(H)\n",
    "\n",
    "  # # if ii==0:\n",
    "  # #  risk_old=risk\n",
    "  # if ii==0:\n",
    "  #   print(risk_old)\n",
    "  risk_new=empirical_risk(Y_train,H)\n",
    "  print(risk_old,risk_new)\n",
    "  # if ii==0:\n",
    "  #   print(risk_new)\n",
    "  if abs(risk_new-risk_old)<=10**-1:# or ii==5:\n",
    "    break\n",
    "print(ii)\n"
   ]
  },
  {
   "cell_type": "code",
   "execution_count": null,
   "metadata": {
    "colab": {
     "base_uri": "https://localhost:8080/"
    },
    "id": "NaiANaXWp5B-",
    "outputId": "4576f08d-66d8-4a45-f0cf-5926f1362656"
   },
   "outputs": [],
   "source": [
    " W[0]\n",
    " risk_new\n",
    " Z\n",
    " H"
   ]
  },
  {
   "cell_type": "code",
   "execution_count": null,
   "metadata": {
    "id": "8sbvoi2hDvng"
   },
   "outputs": [],
   "source": [
    "y_pred=[]\n",
    "\n",
    "for i in range(train_split):\n",
    "  max_index=where(H[:,i]==max(H[:,i]))\n",
    "  y_pred.append(int(array((max_index))))"
   ]
  },
  {
   "cell_type": "code",
   "execution_count": null,
   "metadata": {
    "id": "IPUVbJwMEKF0"
   },
   "outputs": [],
   "source": [
    "Z_test=zeros((len(labels),test_split))\n",
    "\n",
    "for i in range(test_split):\n",
    "  for j in (labels):\n",
    "    Z_test[j,i]=dot(W[j,:].reshape(1,d+1),X_test[i,:].reshape(d+1,1))\n"
   ]
  },
  {
   "cell_type": "code",
   "execution_count": null,
   "metadata": {
    "id": "dKYAJpGHG0gZ"
   },
   "outputs": [],
   "source": [
    "H_test=zeros((len(labels),test_split))\n",
    "\n",
    "for i in range(test_split):\n",
    "  for j in (labels):\n",
    "    H_test[j,i]=exp(Z_test[j,i])/sum(exp(Z_test[:,i]))\n"
   ]
  },
  {
   "cell_type": "code",
   "execution_count": null,
   "metadata": {
    "id": "VUwTDmksHLFS"
   },
   "outputs": [],
   "source": [
    "y_pred=[]\n",
    "\n",
    "for i in range(test_split):\n",
    "  max_index=where(H_test[:,i]==max(H_test[:,i]))\n",
    "  y_pred.append(max_index)\n",
    "\n",
    "\n",
    "y_pred=array(y_pred)\n",
    "y_pred[2]\n",
    "Y_test=Y_raw1[Ns-test_split:Ns]"
   ]
  },
  {
   "cell_type": "code",
   "execution_count": null,
   "metadata": {
    "colab": {
     "base_uri": "https://localhost:8080/"
    },
    "id": "iV4V6_jCKWF6",
    "outputId": "baea3eb0-a379-44e2-f349-15482f272986"
   },
   "outputs": [],
   "source": [
    "y_pred[:,0,0]-Y_test\n",
    "Y_test.shape\n",
    "y_pred[:,0,0].shape"
   ]
  },
  {
   "cell_type": "code",
   "execution_count": null,
   "metadata": {
    "colab": {
     "base_uri": "https://localhost:8080/"
    },
    "id": "4HfD26PVHirt",
    "outputId": "101f0044-66ed-43ab-aaf0-8a92a53a5e5f"
   },
   "outputs": [],
   "source": [
    "c=0\n",
    "\n",
    "for i in range(test_split):\n",
    "  if y_pred[i,0,0]-Y_test[i]!=0:\n",
    "    c=c+1\n",
    "\n",
    "accuracy=(1-c/Ns)*100\n",
    "accuracy"
   ]
  }
 ],
 "metadata": {
  "colab": {
   "provenance": []
  },
  "kernelspec": {
   "display_name": "Python 3",
   "name": "python3"
  },
  "language_info": {
   "name": "python"
  }
 },
 "nbformat": 4,
 "nbformat_minor": 0
}
