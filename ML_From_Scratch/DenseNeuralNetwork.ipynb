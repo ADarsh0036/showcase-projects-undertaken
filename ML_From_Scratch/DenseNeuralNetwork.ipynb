{
 "cells": [
  {
   "cell_type": "code",
   "execution_count": null,
   "metadata": {
    "id": "NXrD-gULyPlu"
   },
   "outputs": [],
   "source": [
    "import numpy\n",
    "from numpy import *\n",
    "import matplotlib.pyplot as plt"
   ]
  },
  {
   "cell_type": "code",
   "execution_count": null,
   "metadata": {
    "colab": {
     "base_uri": "https://localhost:8080/"
    },
    "id": "whUTiYhVyX2w",
    "outputId": "81e76f74-cd89-4a8f-a871-aa26491cacb3"
   },
   "outputs": [],
   "source": [
    "from google.colab import drive\n",
    "drive.mount(\"/content/MyDrive\")"
   ]
  },
  {
   "cell_type": "code",
   "execution_count": null,
   "metadata": {
    "id": "rdRG070Yysfk"
   },
   "outputs": [],
   "source": [
    "data_raw=genfromtxt(\"/content/MyDrive/MyDrive/Data/PRNN/Assignment_1/p4_train.csv\",delimiter=\",\")"
   ]
  },
  {
   "cell_type": "code",
   "execution_count": null,
   "metadata": {
    "colab": {
     "base_uri": "https://localhost:8080/"
    },
    "id": "S2KnZTB1zAyj",
    "outputId": "ef935e89-ca29-4a11-b7c2-87d826078986"
   },
   "outputs": [],
   "source": [
    "X_raw,Y_raw=data_raw[1:,1:],data_raw[1:,0]\n",
    "X_raw=X_raw/255\n",
    "#X_raw=(X_raw-127.5)/127.5\n",
    "Y_raw,shape(Y_raw)"
   ]
  },
  {
   "cell_type": "code",
   "execution_count": null,
   "metadata": {
    "colab": {
     "base_uri": "https://localhost:8080/"
    },
    "id": "iUPJylbl0ShG",
    "outputId": "fb32c728-9904-4193-88e1-0ea3c8793599"
   },
   "outputs": [],
   "source": [
    "N,d=shape(X_raw)\n",
    "N,d"
   ]
  },
  {
   "cell_type": "code",
   "execution_count": null,
   "metadata": {
    "colab": {
     "base_uri": "https://localhost:8080/"
    },
    "id": "5_G-nOSQ0fRq",
    "outputId": "11b7335f-1513-44a8-9020-1ee733472410"
   },
   "outputs": [],
   "source": [
    "random_samples=random.choice(arange(N),6000)\n",
    "Nrs=len(random_samples)\n",
    "shape(random_samples),Nrs"
   ]
  },
  {
   "cell_type": "code",
   "execution_count": null,
   "metadata": {
    "id": "tFAR7e_90pyO"
   },
   "outputs": [],
   "source": [
    "X_use,Y_use=X_raw[random_samples],Y_raw[random_samples]"
   ]
  },
  {
   "cell_type": "code",
   "execution_count": null,
   "metadata": {
    "colab": {
     "base_uri": "https://localhost:8080/"
    },
    "id": "wj4mD_2F3NMQ",
    "outputId": "3a1c05d6-0f73-4a19-c177-a2f90202165f"
   },
   "outputs": [],
   "source": [
    "tts_ratio=0.7  #train_test_split_ratio\n",
    "train_split=int((tts_ratio)*Nrs)\n",
    "test_split=int(round((1-tts_ratio)*Nrs))\n",
    "train_split,test_split"
   ]
  },
  {
   "cell_type": "code",
   "execution_count": null,
   "metadata": {
    "colab": {
     "base_uri": "https://localhost:8080/"
    },
    "id": "BvpxmR5l4Wqg",
    "outputId": "3e3bdb12-3f7d-4c9e-b69b-9b7bebf52887"
   },
   "outputs": [],
   "source": [
    "X_train,Y_train=X_use[0:train_split,:],Y_use[0:train_split]\n",
    "X_test,Y_test=X_use[train_split:Nrs,:],Y_use[train_split:Nrs]\n",
    "shape(X_train),shape(Y_train),shape(X_test),shape(Y_test)"
   ]
  },
  {
   "cell_type": "code",
   "execution_count": null,
   "metadata": {
    "colab": {
     "base_uri": "https://localhost:8080/"
    },
    "id": "m0SgaIHp5Qhc",
    "outputId": "964626ef-4b0f-4f8b-a9c4-7eaee8472346"
   },
   "outputs": [],
   "source": [
    "Ns,d=X_train.shape\n",
    "Ns,d"
   ]
  },
  {
   "cell_type": "code",
   "execution_count": null,
   "metadata": {
    "colab": {
     "base_uri": "https://localhost:8080/"
    },
    "id": "oKRskGVI9g_i",
    "outputId": "a65fdfce-7b5a-4d5f-a0e0-ef3ef875ac80"
   },
   "outputs": [],
   "source": [
    "K=10\n",
    "labels=arange(K)\n",
    "labels"
   ]
  },
  {
   "cell_type": "code",
   "execution_count": null,
   "metadata": {
    "id": "FsN7iXT_xspV"
   },
   "outputs": [],
   "source": [
    "Y_onehot=zeros((train_split,len(labels)))\n",
    "\n",
    "for i in range(train_split):\n",
    "  for j in (labels):\n",
    "    if Y_train[i]==j:\n",
    "      Y_onehot[i,j]=1\n",
    "Y_train_onehot=Y_onehot"
   ]
  },
  {
   "cell_type": "code",
   "execution_count": null,
   "metadata": {
    "colab": {
     "base_uri": "https://localhost:8080/"
    },
    "id": "tjXrQA1s52yk",
    "outputId": "576dc99c-2bb3-4d38-989c-b95f6bce7f19"
   },
   "outputs": [],
   "source": [
    "Y_train_onehot[0].shape"
   ]
  },
  {
   "cell_type": "code",
   "execution_count": null,
   "metadata": {
    "colab": {
     "base_uri": "https://localhost:8080/"
    },
    "id": "obVfIR_hsuo-",
    "outputId": "d918028e-898a-4704-ff61-68ddcbdb9451"
   },
   "outputs": [],
   "source": [
    "Y_test"
   ]
  },
  {
   "cell_type": "code",
   "execution_count": null,
   "metadata": {
    "id": "hPPgCWigyFBU"
   },
   "outputs": [],
   "source": [
    "training_data=concatenate((X_train,Y_train_onehot),axis=1)\n",
    "test_data=concatenate((X_test,Y_test.reshape(len(Y_test),1)),axis=1)"
   ]
  },
  {
   "cell_type": "code",
   "execution_count": null,
   "metadata": {
    "id": "zCaxHYAbNMZz"
   },
   "outputs": [],
   "source": [
    "class DenseNeuralNetworks():\n",
    "  def __init__(self,layers):\n",
    "    self.layers=layers\n",
    "    self.L=len(layers)\n",
    "\n",
    "    self.weights=[]\n",
    "    for l in range(self.L):\n",
    "      if l<self.L-1:\n",
    "        self.weights.append(numpy.random.randn(self.layers[l],self.layers[l+1]))\n",
    "    self.biases=[]\n",
    "\n",
    "    for l in range(self.L):\n",
    "      if l<self.L-1:\n",
    "        self.biases.append(numpy.random.randn(self.layers[l+1],1))\n",
    "\n",
    "  def Feedforward(self,x):\n",
    "    output_activations=[]\n",
    "\n",
    "    for l in range(self.L):\n",
    "      if l<self.L-1:\n",
    "        output_activations.append(zeros((self.layers[l+1],1)))\n",
    "    for l in range(self.L):\n",
    "      if l<self.L-1:\n",
    "        if l==0:\n",
    "\n",
    "          output_activations[l]=(sigmoid(dot(self.weights[l].transpose(),x.reshape(d,1))+self.biases[l]))\n",
    "        else:\n",
    "\n",
    "          output_activations[l]=(sigmoid(dot(self.weights[l].transpose(),output_activations[l-1])+self.biases[l]))\n",
    "\n",
    "    return output_activations[self.L-2]\n",
    "\n",
    "  def SGD(self,epochs,mini_batch_size,alpha):\n",
    "\n",
    "    for ee in range(epochs):\n",
    "      bb=0\n",
    "\n",
    "\n",
    "      if (Ns%mini_batch_size==0):\n",
    "\n",
    "        for mini_batch in  range(int((Ns/mini_batch_size))):\n",
    "          self.now_use_them_for_updating_Wb(concatenate((X_train[mini_batch+bb:mini_batch+bb+mini_batch_size],Y_train_onehot[mini_batch+bb:mini_batch+bb+mini_batch_size]),axis=1),mini_batch_size,alpha)\n",
    "          bb=bb+mini_batch_size-1\n",
    "\n",
    "        print(\"{0}/{1} in epoch {2}\".format(self.now_evaluate_test_data(X_test,Y_test),len(X_test),(ee)))\n",
    "  def now_use_them_for_updating_Wb(self,training_data,mini_batch_size,alpha):\n",
    "\n",
    "    dellCw=[]\n",
    "    dellCb=[]\n",
    "    sumdellCw=[]\n",
    "    sumdellCb=[]\n",
    "\n",
    "    for l in range(self.L):\n",
    "      if l<self.L-1:\n",
    "        sumdellCw.append(zeros((self.layers[l],self.layers[l+1])))\n",
    "        sumdellCb.append(zeros((self.layers[l+1],1)))\n",
    "\n",
    "    for l in range(self.L):\n",
    "      if l<self.L-1:\n",
    "        for ll in range(mini_batch_size):\n",
    "          dellCw,dellCb=self.Backpropogation(training_data[ll,0:d],training_data[ll,d:])\n",
    "          sumdellCw[l] = sumdellCw[l]+dellCw[l]\n",
    "          sumdellCb[l] = sumdellCb[l]+dellCb[l]\n",
    "    for l in range(self.L):\n",
    "      if l<self.L-1:\n",
    "        self.weights[l]=self.weights[l]-(alpha/mini_batch_size)*sumdellCw[l]\n",
    "        self.biases[l]=self.biases[l]-(alpha/mini_batch_size)*sumdellCb[l]\n",
    "\n",
    "  def Backpropogation(self,x,y):\n",
    "\n",
    "    Xi,Yi=x.reshape(d,1),y.reshape(len(labels),1)\n",
    "    Z=[]\n",
    "    Activations=[]\n",
    "    temp_activations1,temp_activations2=0,0\n",
    "\n",
    "\n",
    "    for l in range(self.L):\n",
    "      if l<self.L-1:\n",
    "        if l==0:\n",
    "          Z.append(dot(self.weights[l].transpose(),Xi)+self.biases[l])\n",
    "          Activations.append(sigmoid(Z[l]))\n",
    "          temp_activations1=Activations[l]\n",
    "        else:\n",
    "          Z.append(dot(self.weights[l].transpose(),temp_activations1)+self.biases[l])\n",
    "          temp_activations2=sigmoid(Z[l])\n",
    "          Activations.append(temp_activations2)\n",
    "          temp_activations1=temp_activations2\n",
    "\n",
    "    dellL=multiply((Activations[self.L-2]-Yi),sigmoid(Z[self.L-2])*(1-sigmoid(Z[self.L-2])))\n",
    "\n",
    "    dells=[]\n",
    "\n",
    "\n",
    "    for l in range(self.L):\n",
    "      if l<self.L-1:\n",
    "        dells.append(zeros((self.layers[l+1],1)))\n",
    "    for l in range(self.L):\n",
    "      if l<self.L-1:\n",
    "        if l==0:\n",
    "          dells[self.L-2-l]=dellL\n",
    "          temp_dell1=dells[self.L-2-l]\n",
    "        else:\n",
    "          dells[self.L-2-l]=multiply(dot(self.weights[self.L-2-l+1],dells[self.L-2-l+1]),sigmoid(Z[self.L-2-l])*(1-sigmoid(Z[self.L-2-l])))\n",
    "\n",
    "\n",
    "    dellCw=[]\n",
    "\n",
    "    for l in range(self.L):\n",
    "      if l<self.L-1:\n",
    "        dellCw.append(zeros((self.layers[l],self.layers[l+1])))\n",
    "\n",
    "    for l in range(self.L):\n",
    "      if l<self.L-1:\n",
    "        if l==0:\n",
    "          dellCw[l]=dot(Xi,dells[l].transpose())\n",
    "        else:\n",
    "          dellCw[l]=dot(Activations[l-1],dells[l].transpose())\n",
    "    dellCb=[]\n",
    "    for l in range(self.L):\n",
    "      if l<self.L-1:\n",
    "        dellCb.append(zeros((self.layers[l+1],1)))\n",
    "    for l in range(self.L):\n",
    "      if l<self.L-1:\n",
    "        dellCb[l]=dells[l]\n",
    "\n",
    "    return dellCw,dellCb\n",
    "\n",
    "  def now_evaluate_test_data(self,xtest,ytest):\n",
    "\n",
    "    y_pred=[]\n",
    "    for ii in range(len(xtest)):\n",
    "\n",
    "     y_pred.append(int(argmax(self.Feedforward(X_test[ii]))))\n",
    "\n",
    "    c=0\n",
    "\n",
    "    for i in range(len(ytest)):\n",
    "\n",
    "      if y_pred[i]==int(ytest[i]):\n",
    "        c=c+1\n",
    "\n",
    "    return c\n",
    "\n",
    "\n",
    "\n",
    "\n",
    "def sigmoid(Z):\n",
    "  return (1/(1+exp(-Z)))"
   ]
  },
  {
   "cell_type": "code",
   "execution_count": null,
   "metadata": {
    "colab": {
     "base_uri": "https://localhost:8080/"
    },
    "id": "8r85zp5wTFQv",
    "outputId": "b2001bda-2771-4013-f253-847657aee8bc"
   },
   "outputs": [],
   "source": [
    "nn=DenseNeuralNetworks([d,16,K])\n",
    "nn.SGD(50,10,3)"
   ]
  }
 ],
 "metadata": {
  "colab": {
   "provenance": []
  },
  "kernelspec": {
   "display_name": "Python 3",
   "name": "python3"
  },
  "language_info": {
   "name": "python"
  }
 },
 "nbformat": 4,
 "nbformat_minor": 0
}
